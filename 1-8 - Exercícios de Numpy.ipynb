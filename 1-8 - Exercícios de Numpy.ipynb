{
  "nbformat": 4,
  "nbformat_minor": 0,
  "metadata": {
    "colab": {
      "name": "1.8 - Exercícios de Numpy - BRUNO MORAIS NEVES DE CASTRO",
      "version": "0.3.2",
      "provenance": [],
      "collapsed_sections": [],
      "include_colab_link": true
    },
    "kernelspec": {
      "name": "python3",
      "display_name": "Python 3"
    }
  },
  "cells": [
    {
      "cell_type": "markdown",
      "metadata": {
        "id": "view-in-github",
        "colab_type": "text"
      },
      "source": [
        "<a href=\"https://colab.research.google.com/github/brunomoraisnc/into-to-data-science-ifb/blob/master/1_8_Exerc%C3%ADcios_de_Numpy_BRUNO_MORAIS_NEVES_DE_CASTRO.ipynb\" target=\"_parent\"><img src=\"https://colab.research.google.com/assets/colab-badge.svg\" alt=\"Open In Colab\"/></a>"
      ]
    },
    {
      "cell_type": "code",
      "metadata": {
        "id": "KuD2nNxyMj2C",
        "colab_type": "code",
        "outputId": "7955e2b5-9c66-415c-d8fa-9f8d13c1f30b",
        "colab": {
          "base_uri": "https://localhost:8080/",
          "height": 289
        }
      },
      "source": [
        "# Exercício 1\n",
        "# Qual será a média aritmética, a mediana e o desvio padrão para o seguinte array?\n",
        "# Tente resolver sem utilizar a programação e depois confira utilizando as funções do numpy.\n",
        "array1 = [1,2,3,5,7]\n",
        "array2 = [1,2,3,5,7,9]\n",
        "\n",
        "import numpy as np\n",
        "print(np.mean(array1))\n",
        "print(np.median(array1))\n",
        "print(np.std(array1))\n",
        "\n",
        "print(np.mean(array2))\n",
        "print(np.median(array2))\n",
        "print(np.std(array2))"
      ],
      "execution_count": 0,
      "outputs": [
        {
          "output_type": "stream",
          "text": [
            "3.6\n",
            "3.0\n",
            "2.1540659228538015\n",
            "4.5\n",
            "4.0\n",
            "2.8136571693556887\n",
            "\n",
            "Exercício 2\n",
            "Média: 3.6\n",
            "Mediana: 3.0\n",
            "Desvio-padrão: 2.15\n",
            "\n",
            "Média: 4.5\n",
            "Mediana: 4.0\n",
            "Desvio-padrão: 2.81\n",
            "\n"
          ],
          "name": "stdout"
        }
      ]
    },
    {
      "cell_type": "code",
      "metadata": {
        "id": "yWF5hYQ0M4UJ",
        "colab_type": "code",
        "outputId": "ed26ef18-fd5e-4d08-f8c6-615a49fc3098",
        "colab": {
          "base_uri": "https://localhost:8080/",
          "height": 102
        }
      },
      "source": [
        "# Exercício 2\n",
        "# Agora que você já aprendeu como calcular a média aritmética, a media e o desvio padrão\n",
        "# Faça a programação de suas próprias funções em Python para calcular esses três valores,\n",
        "# isso sem utilizar o numpy.\n",
        "import math\n",
        "import numpy as np\n",
        "\n",
        "print()\n",
        "print('Exercício 2', end='\\n')\n",
        "\n",
        "# Função para calcular média\n",
        "\n",
        "def calcula_media(array0):\n",
        "  mean = sum(array0) / len(array0)\n",
        "  return mean\n",
        "\n",
        "def calcula_mediana(array0):\n",
        "  array0.sort()\n",
        "\n",
        "  # Cálculo da mediana\n",
        "  # Par\n",
        "  if (len(array0) % 2 == 0):\n",
        "    idx = int(len(array0)/2)\n",
        "    mediana = sum(array0[idx-1:idx+1])/2  \n",
        "  # Ímpar\n",
        "  else:\n",
        "    idx = math.ceil(len(array0) / 2)\n",
        "    mediana = array0[idx-1]\n",
        "  \n",
        "  return mediana\n",
        "\n",
        "def calcula_desvio_padrao(array0):\n",
        "  std = var = 0\n",
        "  \n",
        "  media = calcula_media(array0)\n",
        "  \n",
        "  for i in array0:\n",
        "    var += (i - media) ** 2\n",
        "  \n",
        "  var = var / len(array0)\n",
        "  std = math.sqrt(var)\n",
        "  \n",
        "  return std\n",
        "\n",
        "\n",
        "print(calcula_media(array1))\n",
        "print(calcula_mediana(array1))\n",
        "print(calcula_desvio_padrao(array1))"
      ],
      "execution_count": 0,
      "outputs": [
        {
          "output_type": "stream",
          "text": [
            "\n",
            "Exercício 2\n",
            "3.6\n",
            "3\n",
            "2.1540659228538015\n"
          ],
          "name": "stdout"
        }
      ]
    },
    {
      "cell_type": "code",
      "metadata": {
        "id": "W_YiAWueRTWo",
        "colab_type": "code",
        "colab": {}
      },
      "source": [
        ""
      ],
      "execution_count": 0,
      "outputs": []
    }
  ]
}