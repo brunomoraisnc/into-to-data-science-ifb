{
  "nbformat": 4,
  "nbformat_minor": 0,
  "metadata": {
    "colab": {
      "name": "3.14 - Exercício sobre APIs - BRUNO MORAIS NEVES DE CASTRO",
      "version": "0.3.2",
      "provenance": [],
      "collapsed_sections": [],
      "include_colab_link": true
    },
    "kernelspec": {
      "name": "python3",
      "display_name": "Python 3"
    }
  },
  "cells": [
    {
      "cell_type": "markdown",
      "metadata": {
        "id": "view-in-github",
        "colab_type": "text"
      },
      "source": [
        "<a href=\"https://colab.research.google.com/github/brunomoraisnc/into-to-data-science-ifb/blob/master/3_14_Exerc%C3%ADcio_sobre_APIs_BRUNO_MORAIS_NEVES_DE_CASTRO.ipynb\" target=\"_parent\"><img src=\"https://colab.research.google.com/assets/colab-badge.svg\" alt=\"Open In Colab\"/></a>"
      ]
    },
    {
      "cell_type": "code",
      "metadata": {
        "id": "mqhDbDFiyVr7",
        "colab_type": "code",
        "outputId": "d5d4eb4d-591c-4797-8e8c-d6a65334da08",
        "colab": {
          "base_uri": "https://localhost:8080/",
          "height": 71
        }
      },
      "source": [
        "# Versão 1\n",
        "import json\n",
        "import requests\n",
        "\n",
        "url = \"http://ws.audioscrobbler.com/2.0/?method=geo.gettopartists&country=spain&api_key=396cbedb63f32b1e901b1da8b8347f2e&format=json\"\n",
        "data = requests.get(url).text\n",
        "print(type(data))\n",
        "print(data)"
      ],
      "execution_count": 0,
      "outputs": [
        {
          "output_type": "stream",
          "text": [
            "<class 'str'>\n",
            "{\"topartists\":{\"artist\":[{\"name\":\"David Bowie\",\"listeners\":\"3354342\",\"mbid\":\"5441c29d-3602-4898-b1a1-b77fa23b8e50\",\"url\":\"https://www.last.fm/music/David+Bowie\",\"streamable\":\"0\",\"image\":[{\"#text\":\"https://lastfm-img2.akamaized.net/i/u/34s/969de749bbbd8f8b73e4298e48c88126.png\",\"size\":\"small\"},{\"#text\":\"https://lastfm-img2.akamaized.net/i/u/64s/969de749bbbd8f8b73e4298e48c88126.png\",\"size\":\"medium\"},{\"#text\":\"https://lastfm-img2.akamaized.net/i/u/174s/969de749bbbd8f8b73e4298e48c88126.png\",\"size\":\"large\"},{\"#text\":\"https://lastfm-img2.akamaized.net/i/u/300x300/969de749bbbd8f8b73e4298e48c88126.png\",\"size\":\"extralarge\"},{\"#text\":\"https://lastfm-img2.akamaized.net/i/u/300x300/969de749bbbd8f8b73e4298e48c88126.png\",\"size\":\"mega\"}]},{\"name\":\"Radiohead\",\"listeners\":\"4731770\",\"mbid\":\"a74b1b7f-71a5-4011-9441-d0b5e4122711\",\"url\":\"https://www.last.fm/music/Radiohead\",\"streamable\":\"0\",\"image\":[{\"#text\":\"https://lastfm-img2.akamaized.net/i/u/34s/34a557272bc54177854653695a5b6c14.png\",\"size\":\"small\"},{\"#text\":\"https://lastfm-img2.akamaized.net/i/u/64s/34a557272bc54177854653695a5b6c14.png\",\"size\":\"medium\"},{\"#text\":\"https://lastfm-img2.akamaized.net/i/u/174s/34a557272bc54177854653695a5b6c14.png\",\"size\":\"large\"},{\"#text\":\"https://lastfm-img2.akamaized.net/i/u/300x300/34a557272bc54177854653695a5b6c14.png\",\"size\":\"extralarge\"},{\"#text\":\"https://lastfm-img2.akamaized.net/i/u/300x300/34a557272bc54177854653695a5b6c14.png\",\"size\":\"mega\"}]},{\"name\":\"Coldplay\",\"listeners\":\"5381410\",\"mbid\":\"cc197bad-dc9c-440d-a5b5-d52ba2e14234\",\"url\":\"https://www.last.fm/music/Coldplay\",\"streamable\":\"0\",\"image\":[{\"#text\":\"https://lastfm-img2.akamaized.net/i/u/34s/5bdb5d4c53504627c62f9e30f48e9063.png\",\"size\":\"small\"},{\"#text\":\"https://lastfm-img2.akamaized.net/i/u/64s/5bdb5d4c53504627c62f9e30f48e9063.png\",\"size\":\"medium\"},{\"#text\":\"https://lastfm-img2.akamaized.net/i/u/174s/5bdb5d4c53504627c62f9e30f48e9063.png\",\"size\":\"large\"},{\"#text\":\"https://lastfm-img2.akamaized.net/i/u/300x300/5bdb5d4c53504627c62f9e30f48e9063.png\",\"size\":\"extralarge\"},{\"#text\":\"https://lastfm-img2.akamaized.net/i/u/300x300/5bdb5d4c53504627c62f9e30f48e9063.png\",\"size\":\"mega\"}]},{\"name\":\"Queen\",\"listeners\":\"4022355\",\"mbid\":\"420ca290-76c5-41af-999e-564d7c71f1a7\",\"url\":\"https://www.last.fm/music/Queen\",\"streamable\":\"0\",\"image\":[{\"#text\":\"https://lastfm-img2.akamaized.net/i/u/34s/b7ae66009a3845528a51cd06f5d5ae22.png\",\"size\":\"small\"},{\"#text\":\"https://lastfm-img2.akamaized.net/i/u/64s/b7ae66009a3845528a51cd06f5d5ae22.png\",\"size\":\"medium\"},{\"#text\":\"https://lastfm-img2.akamaized.net/i/u/174s/b7ae66009a3845528a51cd06f5d5ae22.png\",\"size\":\"large\"},{\"#text\":\"https://lastfm-img2.akamaized.net/i/u/300x300/b7ae66009a3845528a51cd06f5d5ae22.png\",\"size\":\"extralarge\"},{\"#text\":\"https://lastfm-img2.akamaized.net/i/u/300x300/b7ae66009a3845528a51cd06f5d5ae22.png\",\"size\":\"mega\"}]},{\"name\":\"The Rolling Stones\",\"listeners\":\"3797447\",\"mbid\":\"b071f9fa-14b0-4217-8e97-eb41da73f598\",\"url\":\"https://www.last.fm/music/The+Rolling+Stones\",\"streamable\":\"0\",\"image\":[{\"#text\":\"https://lastfm-img2.akamaized.net/i/u/34s/5a82c7eecf0d4f3a8956f0c2978338d0.png\",\"size\":\"small\"},{\"#text\":\"https://lastfm-img2.akamaized.net/i/u/64s/5a82c7eecf0d4f3a8956f0c2978338d0.png\",\"size\":\"medium\"},{\"#text\":\"https://lastfm-img2.akamaized.net/i/u/174s/5a82c7eecf0d4f3a8956f0c2978338d0.png\",\"size\":\"large\"},{\"#text\":\"https://lastfm-img2.akamaized.net/i/u/300x300/5a82c7eecf0d4f3a8956f0c2978338d0.png\",\"size\":\"extralarge\"},{\"#text\":\"https://lastfm-img2.akamaized.net/i/u/300x300/5a82c7eecf0d4f3a8956f0c2978338d0.png\",\"size\":\"mega\"}]},{\"name\":\"Muse\",\"listeners\":\"4089246\",\"mbid\":\"fd857293-5ab8-40de-b29e-55a69d4e4d0f\",\"url\":\"https://www.last.fm/music/Muse\",\"streamable\":\"0\",\"image\":[{\"#text\":\"https://lastfm-img2.akamaized.net/i/u/34s/0ef02b6f9a53b86a47b3469074dd8b74.png\",\"size\":\"small\"},{\"#text\":\"https://lastfm-img2.akamaized.net/i/u/64s/0ef02b6f9a53b86a47b3469074dd8b74.png\",\"size\":\"medium\"},{\"#text\":\"https://lastfm-img2.akamaized.net/i/u/174s/0ef02b6f9a53b86a47b3469074dd8b74.png\",\"size\":\"large\"},{\"#text\":\"https://lastfm-img2.akamaized.net/i/u/300x300/0ef02b6f9a53b86a47b3469074dd8b74.png\",\"size\":\"extralarge\"},{\"#text\":\"https://lastfm-img2.akamaized.net/i/u/300x300/0ef02b6f9a53b86a47b3469074dd8b74.png\",\"size\":\"mega\"}]},{\"name\":\"The Beatles\",\"listeners\":\"3672815\",\"mbid\":\"b10bbbfc-cf9e-42e0-be17-e2c3e1d2600d\",\"url\":\"https://www.last.fm/music/The+Beatles\",\"streamable\":\"0\",\"image\":[{\"#text\":\"https://lastfm-img2.akamaized.net/i/u/34s/047a20990f8ffd0442352e67c4e0bcdc.png\",\"size\":\"small\"},{\"#text\":\"https://lastfm-img2.akamaized.net/i/u/64s/047a20990f8ffd0442352e67c4e0bcdc.png\",\"size\":\"medium\"},{\"#text\":\"https://lastfm-img2.akamaized.net/i/u/174s/047a20990f8ffd0442352e67c4e0bcdc.png\",\"size\":\"large\"},{\"#text\":\"https://lastfm-img2.akamaized.net/i/u/300x300/047a20990f8ffd0442352e67c4e0bcdc.png\",\"size\":\"extralarge\"},{\"#text\":\"https://lastfm-img2.akamaized.net/i/u/300x300/047a20990f8ffd0442352e67c4e0bcdc.png\",\"size\":\"mega\"}]},{\"name\":\"Daft Punk\",\"listeners\":\"3782091\",\"mbid\":\"056e4f3e-d505-4dad-8ec1-d04f521cbb56\",\"url\":\"https://www.last.fm/music/Daft+Punk\",\"streamable\":\"0\",\"image\":[{\"#text\":\"https://lastfm-img2.akamaized.net/i/u/34s/9fd718d4c80e4ac89107c6c0bb908440.png\",\"size\":\"small\"},{\"#text\":\"https://lastfm-img2.akamaized.net/i/u/64s/9fd718d4c80e4ac89107c6c0bb908440.png\",\"size\":\"medium\"},{\"#text\":\"https://lastfm-img2.akamaized.net/i/u/174s/9fd718d4c80e4ac89107c6c0bb908440.png\",\"size\":\"large\"},{\"#text\":\"https://lastfm-img2.akamaized.net/i/u/300x300/9fd718d4c80e4ac89107c6c0bb908440.png\",\"size\":\"extralarge\"},{\"#text\":\"https://lastfm-img2.akamaized.net/i/u/300x300/9fd718d4c80e4ac89107c6c0bb908440.png\",\"size\":\"mega\"}]},{\"name\":\"Arctic Monkeys\",\"listeners\":\"3501338\",\"mbid\":\"ada7a83c-e3e1-40f1-93f9-3e73dbc9298a\",\"url\":\"https://www.last.fm/music/Arctic+Monkeys\",\"streamable\":\"0\",\"image\":[{\"#text\":\"https://lastfm-img2.akamaized.net/i/u/34s/333b67c65d5745ef3785096b823a64cf.png\",\"size\":\"small\"},{\"#text\":\"https://lastfm-img2.akamaized.net/i/u/64s/333b67c65d5745ef3785096b823a64cf.png\",\"size\":\"medium\"},{\"#text\":\"https://lastfm-img2.akamaized.net/i/u/174s/333b67c65d5745ef3785096b823a64cf.png\",\"size\":\"large\"},{\"#text\":\"https://lastfm-img2.akamaized.net/i/u/300x300/333b67c65d5745ef3785096b823a64cf.png\",\"size\":\"extralarge\"},{\"#text\":\"https://lastfm-img2.akamaized.net/i/u/300x300/333b67c65d5745ef3785096b823a64cf.png\",\"size\":\"mega\"}]},{\"name\":\"The Cure\",\"listeners\":\"2931903\",\"mbid\":\"69ee3720-a7cb-4402-b48d-a02c366f2bcf\",\"url\":\"https://www.last.fm/music/The+Cure\",\"streamable\":\"0\",\"image\":[{\"#text\":\"https://lastfm-img2.akamaized.net/i/u/34s/07da82a861a6486ea5fdc0ac2177b5bc.png\",\"size\":\"small\"},{\"#text\":\"https://lastfm-img2.akamaized.net/i/u/64s/07da82a861a6486ea5fdc0ac2177b5bc.png\",\"size\":\"medium\"},{\"#text\":\"https://lastfm-img2.akamaized.net/i/u/174s/07da82a861a6486ea5fdc0ac2177b5bc.png\",\"size\":\"large\"},{\"#text\":\"https://lastfm-img2.akamaized.net/i/u/300x300/07da82a861a6486ea5fdc0ac2177b5bc.png\",\"size\":\"extralarge\"},{\"#text\":\"https://lastfm-img2.akamaized.net/i/u/300x300/07da82a861a6486ea5fdc0ac2177b5bc.png\",\"size\":\"mega\"}]},{\"name\":\"Red Hot Chili Peppers\",\"listeners\":\"4620228\",\"mbid\":\"8bfac288-ccc5-448d-9573-c33ea2aa5c30\",\"url\":\"https://www.last.fm/music/Red+Hot+Chili+Peppers\",\"streamable\":\"0\",\"image\":[{\"#text\":\"https://lastfm-img2.akamaized.net/i/u/34s/c1d6a8e426734924870c0031178a1aa9.png\",\"size\":\"small\"},{\"#text\":\"https://lastfm-img2.akamaized.net/i/u/64s/c1d6a8e426734924870c0031178a1aa9.png\",\"size\":\"medium\"},{\"#text\":\"https://lastfm-img2.akamaized.net/i/u/174s/c1d6a8e426734924870c0031178a1aa9.png\",\"size\":\"large\"},{\"#text\":\"https://lastfm-img2.akamaized.net/i/u/300x300/c1d6a8e426734924870c0031178a1aa9.png\",\"size\":\"extralarge\"},{\"#text\":\"https://lastfm-img2.akamaized.net/i/u/300x300/c1d6a8e426734924870c0031178a1aa9.png\",\"size\":\"mega\"}]},{\"name\":\"Sia\",\"listeners\":\"2123110\",\"mbid\":\"2f548675-008d-4332-876c-108b0c7ab9c5\",\"url\":\"https://www.last.fm/music/Sia\",\"streamable\":\"0\",\"image\":[{\"#text\":\"https://lastfm-img2.akamaized.net/i/u/34s/c13bdd89bcdae646e000079fad0f5e12.png\",\"size\":\"small\"},{\"#text\":\"https://lastfm-img2.akamaized.net/i/u/64s/c13bdd89bcdae646e000079fad0f5e12.png\",\"size\":\"medium\"},{\"#text\":\"https://lastfm-img2.akamaized.net/i/u/174s/c13bdd89bcdae646e000079fad0f5e12.png\",\"size\":\"large\"},{\"#text\":\"https://lastfm-img2.akamaized.net/i/u/300x300/c13bdd89bcdae646e000079fad0f5e12.png\",\"size\":\"extralarge\"},{\"#text\":\"https://lastfm-img2.akamaized.net/i/u/300x300/c13bdd89bcdae646e000079fad0f5e12.png\",\"size\":\"mega\"}]},{\"name\":\"Blur\",\"listeners\":\"2871716\",\"mbid\":\"ba853904-ae25-4ebb-89d6-c44cfbd71bd2\",\"url\":\"https://www.last.fm/music/Blur\",\"streamable\":\"0\",\"image\":[{\"#text\":\"https://lastfm-img2.akamaized.net/i/u/34s/3bdd8bb67428f14d70cef0f764bc2c27.png\",\"size\":\"small\"},{\"#text\":\"https://lastfm-img2.akamaized.net/i/u/64s/3bdd8bb67428f14d70cef0f764bc2c27.png\",\"size\":\"medium\"},{\"#text\":\"https://lastfm-img2.akamaized.net/i/u/174s/3bdd8bb67428f14d70cef0f764bc2c27.png\",\"size\":\"large\"},{\"#text\":\"https://lastfm-img2.akamaized.net/i/u/300x300/3bdd8bb67428f14d70cef0f764bc2c27.png\",\"size\":\"extralarge\"},{\"#text\":\"https://lastfm-img2.akamaized.net/i/u/300x300/3bdd8bb67428f14d70cef0f764bc2c27.png\",\"size\":\"mega\"}]},{\"name\":\"Nirvana\",\"listeners\":\"4272166\",\"mbid\":\"9282c8b4-ca0b-4c6b-b7e3-4f7762dfc4d6\",\"url\":\"https://www.last.fm/music/Nirvana\",\"streamable\":\"0\",\"image\":[{\"#text\":\"https://lastfm-img2.akamaized.net/i/u/34s/5e5d836721e245d59946d38acb6d81d8.png\",\"size\":\"small\"},{\"#text\":\"https://lastfm-img2.akamaized.net/i/u/64s/5e5d836721e245d59946d38acb6d81d8.png\",\"size\":\"medium\"},{\"#text\":\"https://lastfm-img2.akamaized.net/i/u/174s/5e5d836721e245d59946d38acb6d81d8.png\",\"size\":\"large\"},{\"#text\":\"https://lastfm-img2.akamaized.net/i/u/300x300/5e5d836721e245d59946d38acb6d81d8.png\",\"size\":\"extralarge\"},{\"#text\":\"https://lastfm-img2.akamaized.net/i/u/300x300/5e5d836721e245d59946d38acb6d81d8.png\",\"size\":\"mega\"}]},{\"name\":\"Ed Sheeran\",\"listeners\":\"1620262\",\"mbid\":\"b8a7c51f-362c-4dcb-a259-bc6e0095f0a6\",\"url\":\"https://www.last.fm/music/Ed+Sheeran\",\"streamable\":\"0\",\"image\":[{\"#text\":\"https://lastfm-img2.akamaized.net/i/u/34s/fdc369923434b3ccb68a47aae0433a1f.png\",\"size\":\"small\"},{\"#text\":\"https://lastfm-img2.akamaized.net/i/u/64s/fdc369923434b3ccb68a47aae0433a1f.png\",\"size\":\"medium\"},{\"#text\":\"https://lastfm-img2.akamaized.net/i/u/174s/fdc369923434b3ccb68a47aae0433a1f.png\",\"size\":\"large\"},{\"#text\":\"https://lastfm-img2.akamaized.net/i/u/300x300/fdc369923434b3ccb68a47aae0433a1f.png\",\"size\":\"extralarge\"},{\"#text\":\"https://lastfm-img2.akamaized.net/i/u/300x300/fdc369923434b3ccb68a47aae0433a1f.png\",\"size\":\"mega\"}]},{\"name\":\"Pink Floyd\",\"listeners\":\"3080634\",\"mbid\":\"83d91898-7763-47d7-b03b-b92132375c47\",\"url\":\"https://www.last.fm/music/Pink+Floyd\",\"streamable\":\"0\",\"image\":[{\"#text\":\"https://lastfm-img2.akamaized.net/i/u/34s/4f4c3c1f5e647d3cf1c1dcfee840d76e.png\",\"size\":\"small\"},{\"#text\":\"https://lastfm-img2.akamaized.net/i/u/64s/4f4c3c1f5e647d3cf1c1dcfee840d76e.png\",\"size\":\"medium\"},{\"#text\":\"https://lastfm-img2.akamaized.net/i/u/174s/4f4c3c1f5e647d3cf1c1dcfee840d76e.png\",\"size\":\"large\"},{\"#text\":\"https://lastfm-img2.akamaized.net/i/u/300x300/4f4c3c1f5e647d3cf1c1dcfee840d76e.png\",\"size\":\"extralarge\"},{\"#text\":\"https://lastfm-img2.akamaized.net/i/u/300x300/4f4c3c1f5e647d3cf1c1dcfee840d76e.png\",\"size\":\"mega\"}]},{\"name\":\"Adele\",\"listeners\":\"2856579\",\"mbid\":\"cc2c9c3c-b7bc-4b8b-84d8-4fbd8779e493\",\"url\":\"https://www.last.fm/music/Adele\",\"streamable\":\"0\",\"image\":[{\"#text\":\"https://lastfm-img2.akamaized.net/i/u/34s/c8cfa0a250a26a361f26fed40b5aec45.png\",\"size\":\"small\"},{\"#text\":\"https://lastfm-img2.akamaized.net/i/u/64s/c8cfa0a250a26a361f26fed40b5aec45.png\",\"size\":\"medium\"},{\"#text\":\"https://lastfm-img2.akamaized.net/i/u/174s/c8cfa0a250a26a361f26fed40b5aec45.png\",\"size\":\"large\"},{\"#text\":\"https://lastfm-img2.akamaized.net/i/u/300x300/c8cfa0a250a26a361f26fed40b5aec45.png\",\"size\":\"extralarge\"},{\"#text\":\"https://lastfm-img2.akamaized.net/i/u/300x300/c8cfa0a250a26a361f26fed40b5aec45.png\",\"size\":\"mega\"}]},{\"name\":\"Tame Impala\",\"listeners\":\"1121802\",\"mbid\":\"63aa26c3-d59b-4da4-84ac-716b54f1ef4d\",\"url\":\"https://www.last.fm/music/Tame+Impala\",\"streamable\":\"0\",\"image\":[{\"#text\":\"https://lastfm-img2.akamaized.net/i/u/34s/51aba1344ff5a75ee7776cfa6193c807.png\",\"size\":\"small\"},{\"#text\":\"https://lastfm-img2.akamaized.net/i/u/64s/51aba1344ff5a75ee7776cfa6193c807.png\",\"size\":\"medium\"},{\"#text\":\"https://lastfm-img2.akamaized.net/i/u/174s/51aba1344ff5a75ee7776cfa6193c807.png\",\"size\":\"large\"},{\"#text\":\"https://lastfm-img2.akamaized.net/i/u/300x300/51aba1344ff5a75ee7776cfa6193c807.png\",\"size\":\"extralarge\"},{\"#text\":\"https://lastfm-img2.akamaized.net/i/u/300x300/51aba1344ff5a75ee7776cfa6193c807.png\",\"size\":\"mega\"}]},{\"name\":\"Bob Dylan\",\"listeners\":\"2662557\",\"mbid\":\"72c536dc-7137-4477-a521-567eeb840fa8\",\"url\":\"https://www.last.fm/music/Bob+Dylan\",\"streamable\":\"0\",\"image\":[{\"#text\":\"https://lastfm-img2.akamaized.net/i/u/34s/fc54f3be11a232db6b933be135537aa7.png\",\"size\":\"small\"},{\"#text\":\"https://lastfm-img2.akamaized.net/i/u/64s/fc54f3be11a232db6b933be135537aa7.png\",\"size\":\"medium\"},{\"#text\":\"https://lastfm-img2.akamaized.net/i/u/174s/fc54f3be11a232db6b933be135537aa7.png\",\"size\":\"large\"},{\"#text\":\"https://lastfm-img2.akamaized.net/i/u/300x300/fc54f3be11a232db6b933be135537aa7.png\",\"size\":\"extralarge\"},{\"#text\":\"https://lastfm-img2.akamaized.net/i/u/300x300/fc54f3be11a232db6b933be135537aa7.png\",\"size\":\"mega\"}]},{\"name\":\"Calvin Harris\",\"listeners\":\"2195236\",\"mbid\":\"8dd98bdc-80ec-4e93-8509-2f46bafc09a7\",\"url\":\"https://www.last.fm/music/Calvin+Harris\",\"streamable\":\"0\",\"image\":[{\"#text\":\"https://lastfm-img2.akamaized.net/i/u/34s/ca83997a225a4368eb55f82717add274.png\",\"size\":\"small\"},{\"#text\":\"https://lastfm-img2.akamaized.net/i/u/64s/ca83997a225a4368eb55f82717add274.png\",\"size\":\"medium\"},{\"#text\":\"https://lastfm-img2.akamaized.net/i/u/174s/ca83997a225a4368eb55f82717add274.png\",\"size\":\"large\"},{\"#text\":\"https://lastfm-img2.akamaized.net/i/u/300x300/ca83997a225a4368eb55f82717add274.png\",\"size\":\"extralarge\"},{\"#text\":\"https://lastfm-img2.akamaized.net/i/u/300x300/ca83997a225a4368eb55f82717add274.png\",\"size\":\"mega\"}]},{\"name\":\"Arcade Fire\",\"listeners\":\"2563791\",\"mbid\":\"52074ba6-e495-4ef3-9bb4-0703888a9f68\",\"url\":\"https://www.last.fm/music/Arcade+Fire\",\"streamable\":\"0\",\"image\":[{\"#text\":\"https://lastfm-img2.akamaized.net/i/u/34s/ba884371a52d4b2bcbf5e0d6c30c6e75.png\",\"size\":\"small\"},{\"#text\":\"https://lastfm-img2.akamaized.net/i/u/64s/ba884371a52d4b2bcbf5e0d6c30c6e75.png\",\"size\":\"medium\"},{\"#text\":\"https://lastfm-img2.akamaized.net/i/u/174s/ba884371a52d4b2bcbf5e0d6c30c6e75.png\",\"size\":\"large\"},{\"#text\":\"https://lastfm-img2.akamaized.net/i/u/300x300/ba884371a52d4b2bcbf5e0d6c30c6e75.png\",\"size\":\"extralarge\"},{\"#text\":\"https://lastfm-img2.akamaized.net/i/u/300x300/ba884371a52d4b2bcbf5e0d6c30c6e75.png\",\"size\":\"mega\"}]},{\"name\":\"The xx\",\"listeners\":\"1923072\",\"mbid\":\"c5c2ea1c-4bde-4f4d-bd0b-47b200bf99d6\",\"url\":\"https://www.last.fm/music/The+xx\",\"streamable\":\"0\",\"image\":[{\"#text\":\"https://lastfm-img2.akamaized.net/i/u/34s/bd4020d2018f34a4c709c017f62eeaea.png\",\"size\":\"small\"},{\"#text\":\"https://lastfm-img2.akamaized.net/i/u/64s/bd4020d2018f34a4c709c017f62eeaea.png\",\"size\":\"medium\"},{\"#text\":\"https://lastfm-img2.akamaized.net/i/u/174s/bd4020d2018f34a4c709c017f62eeaea.png\",\"size\":\"large\"},{\"#text\":\"https://lastfm-img2.akamaized.net/i/u/300x300/bd4020d2018f34a4c709c017f62eeaea.png\",\"size\":\"extralarge\"},{\"#text\":\"https://lastfm-img2.akamaized.net/i/u/300x300/bd4020d2018f34a4c709c017f62eeaea.png\",\"size\":\"mega\"}]},{\"name\":\"U2\",\"listeners\":\"3486711\",\"mbid\":\"a3cb23fc-acd3-4ce0-8f36-1e5aa6a18432\",\"url\":\"https://www.last.fm/music/U2\",\"streamable\":\"0\",\"image\":[{\"#text\":\"https://lastfm-img2.akamaized.net/i/u/34s/521f52d1ea68c31b03b4179f4d0958c2.png\",\"size\":\"small\"},{\"#text\":\"https://lastfm-img2.akamaized.net/i/u/64s/521f52d1ea68c31b03b4179f4d0958c2.png\",\"size\":\"medium\"},{\"#text\":\"https://lastfm-img2.akamaized.net/i/u/174s/521f52d1ea68c31b03b4179f4d0958c2.png\",\"size\":\"large\"},{\"#text\":\"https://lastfm-img2.akamaized.net/i/u/300x300/521f52d1ea68c31b03b4179f4d0958c2.png\",\"size\":\"extralarge\"},{\"#text\":\"https://lastfm-img2.akamaized.net/i/u/300x300/521f52d1ea68c31b03b4179f4d0958c2.png\",\"size\":\"mega\"}]},{\"name\":\"The Strokes\",\"listeners\":\"3261794\",\"mbid\":\"f181961b-20f7-459e-89de-920ef03c7ed0\",\"url\":\"https://www.last.fm/music/The+Strokes\",\"streamable\":\"0\",\"image\":[{\"#text\":\"https://lastfm-img2.akamaized.net/i/u/34s/6278187d866420fa64426c66c37d99a6.png\",\"size\":\"small\"},{\"#text\":\"https://lastfm-img2.akamaized.net/i/u/64s/6278187d866420fa64426c66c37d99a6.png\",\"size\":\"medium\"},{\"#text\":\"https://lastfm-img2.akamaized.net/i/u/174s/6278187d866420fa64426c66c37d99a6.png\",\"size\":\"large\"},{\"#text\":\"https://lastfm-img2.akamaized.net/i/u/300x300/6278187d866420fa64426c66c37d99a6.png\",\"size\":\"extralarge\"},{\"#text\":\"https://lastfm-img2.akamaized.net/i/u/300x300/6278187d866420fa64426c66c37d99a6.png\",\"size\":\"mega\"}]},{\"name\":\"Michael Jackson\",\"listeners\":\"3546678\",\"mbid\":\"f27ec8db-af05-4f36-916e-3d57f91ecf5e\",\"url\":\"https://www.last.fm/music/Michael+Jackson\",\"streamable\":\"0\",\"image\":[{\"#text\":\"https://lastfm-img2.akamaized.net/i/u/34s/7a9b0f69d51f41a888ef29df9cfe3594.png\",\"size\":\"small\"},{\"#text\":\"https://lastfm-img2.akamaized.net/i/u/64s/7a9b0f69d51f41a888ef29df9cfe3594.png\",\"size\":\"medium\"},{\"#text\":\"https://lastfm-img2.akamaized.net/i/u/174s/7a9b0f69d51f41a888ef29df9cfe3594.png\",\"size\":\"large\"},{\"#text\":\"https://lastfm-img2.akamaized.net/i/u/300x300/7a9b0f69d51f41a888ef29df9cfe3594.png\",\"size\":\"extralarge\"},{\"#text\":\"https://lastfm-img2.akamaized.net/i/u/300x300/7a9b0f69d51f41a888ef29df9cfe3594.png\",\"size\":\"mega\"}]},{\"name\":\"Depeche Mode\",\"listeners\":\"2684751\",\"mbid\":\"8538e728-ca0b-4321-b7e5-cff6565dd4c0\",\"url\":\"https://www.last.fm/music/Depeche+Mode\",\"streamable\":\"0\",\"image\":[{\"#text\":\"https://lastfm-img2.akamaized.net/i/u/34s/98477a4fa4aa4526bd1599b4db69173b.png\",\"size\":\"small\"},{\"#text\":\"https://lastfm-img2.akamaized.net/i/u/64s/98477a4fa4aa4526bd1599b4db69173b.png\",\"size\":\"medium\"},{\"#text\":\"https://lastfm-img2.akamaized.net/i/u/174s/98477a4fa4aa4526bd1599b4db69173b.png\",\"size\":\"large\"},{\"#text\":\"https://lastfm-img2.akamaized.net/i/u/300x300/98477a4fa4aa4526bd1599b4db69173b.png\",\"size\":\"extralarge\"},{\"#text\":\"https://lastfm-img2.akamaized.net/i/u/300x300/98477a4fa4aa4526bd1599b4db69173b.png\",\"size\":\"mega\"}]},{\"name\":\"Major Lazer\",\"listeners\":\"1233707\",\"mbid\":\"75be165a-ad83-4d12-bd28-f589a15c479f\",\"url\":\"https://www.last.fm/music/Major+Lazer\",\"streamable\":\"0\",\"image\":[{\"#text\":\"https://lastfm-img2.akamaized.net/i/u/34s/11501179baf9c15c84d76092c01353b7.png\",\"size\":\"small\"},{\"#text\":\"https://lastfm-img2.akamaized.net/i/u/64s/11501179baf9c15c84d76092c01353b7.png\",\"size\":\"medium\"},{\"#text\":\"https://lastfm-img2.akamaized.net/i/u/174s/11501179baf9c15c84d76092c01353b7.png\",\"size\":\"large\"},{\"#text\":\"https://lastfm-img2.akamaized.net/i/u/300x300/11501179baf9c15c84d76092c01353b7.png\",\"size\":\"extralarge\"},{\"#text\":\"https://lastfm-img2.akamaized.net/i/u/300x300/11501179baf9c15c84d76092c01353b7.png\",\"size\":\"mega\"}]},{\"name\":\"R.E.M.\",\"listeners\":\"2885996\",\"mbid\":\"ea4dfa26-f633-4da6-a52a-f49ea4897b58\",\"url\":\"https://www.last.fm/music/R.E.M.\",\"streamable\":\"0\",\"image\":[{\"#text\":\"https://lastfm-img2.akamaized.net/i/u/34s/8e7d21aedf8b4fb2833ef969d656a2b7.png\",\"size\":\"small\"},{\"#text\":\"https://lastfm-img2.akamaized.net/i/u/64s/8e7d21aedf8b4fb2833ef969d656a2b7.png\",\"size\":\"medium\"},{\"#text\":\"https://lastfm-img2.akamaized.net/i/u/174s/8e7d21aedf8b4fb2833ef969d656a2b7.png\",\"size\":\"large\"},{\"#text\":\"https://lastfm-img2.akamaized.net/i/u/300x300/8e7d21aedf8b4fb2833ef969d656a2b7.png\",\"size\":\"extralarge\"},{\"#text\":\"https://lastfm-img2.akamaized.net/i/u/300x300/8e7d21aedf8b4fb2833ef969d656a2b7.png\",\"size\":\"mega\"}]},{\"name\":\"The Killers\",\"listeners\":\"4427988\",\"mbid\":\"95e1ead9-4d31-4808-a7ac-32c3614c116b\",\"url\":\"https://www.last.fm/music/The+Killers\",\"streamable\":\"0\",\"image\":[{\"#text\":\"https://lastfm-img2.akamaized.net/i/u/34s/3ed37777196a6f2c29c02a1a58a93e4d.png\",\"size\":\"small\"},{\"#text\":\"https://lastfm-img2.akamaized.net/i/u/64s/3ed37777196a6f2c29c02a1a58a93e4d.png\",\"size\":\"medium\"},{\"#text\":\"https://lastfm-img2.akamaized.net/i/u/174s/3ed37777196a6f2c29c02a1a58a93e4d.png\",\"size\":\"large\"},{\"#text\":\"https://lastfm-img2.akamaized.net/i/u/300x300/3ed37777196a6f2c29c02a1a58a93e4d.png\",\"size\":\"extralarge\"},{\"#text\":\"https://lastfm-img2.akamaized.net/i/u/300x300/3ed37777196a6f2c29c02a1a58a93e4d.png\",\"size\":\"mega\"}]},{\"name\":\"Led Zeppelin\",\"listeners\":\"2930490\",\"mbid\":\"d6e0e274-8e19-44ce-b5b2-52c12f8a674a\",\"url\":\"https://www.last.fm/music/Led+Zeppelin\",\"streamable\":\"0\",\"image\":[{\"#text\":\"https://lastfm-img2.akamaized.net/i/u/34s/8b238225c5f341dfc10a1695a9cdf00c.png\",\"size\":\"small\"},{\"#text\":\"https://lastfm-img2.akamaized.net/i/u/64s/8b238225c5f341dfc10a1695a9cdf00c.png\",\"size\":\"medium\"},{\"#text\":\"https://lastfm-img2.akamaized.net/i/u/174s/8b238225c5f341dfc10a1695a9cdf00c.png\",\"size\":\"large\"},{\"#text\":\"https://lastfm-img2.akamaized.net/i/u/300x300/8b238225c5f341dfc10a1695a9cdf00c.png\",\"size\":\"extralarge\"},{\"#text\":\"https://lastfm-img2.akamaized.net/i/u/300x300/8b238225c5f341dfc10a1695a9cdf00c.png\",\"size\":\"mega\"}]},{\"name\":\"The Weeknd\",\"listeners\":\"1272662\",\"mbid\":\"c8b03190-306c-4120-bb0b-6f2ebfc06ea9\",\"url\":\"https://www.last.fm/music/The+Weeknd\",\"streamable\":\"0\",\"image\":[{\"#text\":\"https://lastfm-img2.akamaized.net/i/u/34s/b4ec92ee896dbe28a63ec0b98b493840.png\",\"size\":\"small\"},{\"#text\":\"https://lastfm-img2.akamaized.net/i/u/64s/b4ec92ee896dbe28a63ec0b98b493840.png\",\"size\":\"medium\"},{\"#text\":\"https://lastfm-img2.akamaized.net/i/u/174s/b4ec92ee896dbe28a63ec0b98b493840.png\",\"size\":\"large\"},{\"#text\":\"https://lastfm-img2.akamaized.net/i/u/300x300/b4ec92ee896dbe28a63ec0b98b493840.png\",\"size\":\"extralarge\"},{\"#text\":\"https://lastfm-img2.akamaized.net/i/u/300x300/b4ec92ee896dbe28a63ec0b98b493840.png\",\"size\":\"mega\"}]},{\"name\":\"Rihanna\",\"listeners\":\"4557309\",\"mbid\":\"db36a76f-4cdf-43ac-8cd0-5e48092d2bae\",\"url\":\"https://www.last.fm/music/Rihanna\",\"streamable\":\"0\",\"image\":[{\"#text\":\"https://lastfm-img2.akamaized.net/i/u/34s/b21084f20f4c24347f60190e23c2da09.png\",\"size\":\"small\"},{\"#text\":\"https://lastfm-img2.akamaized.net/i/u/64s/b21084f20f4c24347f60190e23c2da09.png\",\"size\":\"medium\"},{\"#text\":\"https://lastfm-img2.akamaized.net/i/u/174s/b21084f20f4c24347f60190e23c2da09.png\",\"size\":\"large\"},{\"#text\":\"https://lastfm-img2.akamaized.net/i/u/300x300/b21084f20f4c24347f60190e23c2da09.png\",\"size\":\"extralarge\"},{\"#text\":\"https://lastfm-img2.akamaized.net/i/u/300x300/b21084f20f4c24347f60190e23c2da09.png\",\"size\":\"mega\"}]},{\"name\":\"Imagine Dragons\",\"listeners\":\"1661346\",\"mbid\":\"012151a8-0f9a-44c9-997f-ebd68b5389f9\",\"url\":\"https://www.last.fm/music/Imagine+Dragons\",\"streamable\":\"0\",\"image\":[{\"#text\":\"https://lastfm-img2.akamaized.net/i/u/34s/d645cfa73e13eb828349968ec2d0e234.png\",\"size\":\"small\"},{\"#text\":\"https://lastfm-img2.akamaized.net/i/u/64s/d645cfa73e13eb828349968ec2d0e234.png\",\"size\":\"medium\"},{\"#text\":\"https://lastfm-img2.akamaized.net/i/u/174s/d645cfa73e13eb828349968ec2d0e234.png\",\"size\":\"large\"},{\"#text\":\"https://lastfm-img2.akamaized.net/i/u/300x300/d645cfa73e13eb828349968ec2d0e234.png\",\"size\":\"extralarge\"},{\"#text\":\"https://lastfm-img2.akamaized.net/i/u/300x300/d645cfa73e13eb828349968ec2d0e234.png\",\"size\":\"mega\"}]},{\"name\":\"Foo Fighters\",\"listeners\":\"4004979\",\"mbid\":\"67f66c07-6e61-4026-ade5-7e782fad3a5d\",\"url\":\"https://www.last.fm/music/Foo+Fighters\",\"streamable\":\"0\",\"image\":[{\"#text\":\"https://lastfm-img2.akamaized.net/i/u/34s/0d0fb6d499a6530ed22f1dbd4546e835.png\",\"size\":\"small\"},{\"#text\":\"https://lastfm-img2.akamaized.net/i/u/64s/0d0fb6d499a6530ed22f1dbd4546e835.png\",\"size\":\"medium\"},{\"#text\":\"https://lastfm-img2.akamaized.net/i/u/174s/0d0fb6d499a6530ed22f1dbd4546e835.png\",\"size\":\"large\"},{\"#text\":\"https://lastfm-img2.akamaized.net/i/u/300x300/0d0fb6d499a6530ed22f1dbd4546e835.png\",\"size\":\"extralarge\"},{\"#text\":\"https://lastfm-img2.akamaized.net/i/u/300x300/0d0fb6d499a6530ed22f1dbd4546e835.png\",\"size\":\"mega\"}]},{\"name\":\"The Black Keys\",\"listeners\":\"2162827\",\"mbid\":\"d15721d8-56b4-453d-b506-fc915b14cba2\",\"url\":\"https://www.last.fm/music/The+Black+Keys\",\"streamable\":\"0\",\"image\":[{\"#text\":\"https://lastfm-img2.akamaized.net/i/u/34s/6cecd86c45894f17cfc3961b57d85620.png\",\"size\":\"small\"},{\"#text\":\"https://lastfm-img2.akamaized.net/i/u/64s/6cecd86c45894f17cfc3961b57d85620.png\",\"size\":\"medium\"},{\"#text\":\"https://lastfm-img2.akamaized.net/i/u/174s/6cecd86c45894f17cfc3961b57d85620.png\",\"size\":\"large\"},{\"#text\":\"https://lastfm-img2.akamaized.net/i/u/300x300/6cecd86c45894f17cfc3961b57d85620.png\",\"size\":\"extralarge\"},{\"#text\":\"https://lastfm-img2.akamaized.net/i/u/300x300/6cecd86c45894f17cfc3961b57d85620.png\",\"size\":\"mega\"}]},{\"name\":\"Lana Del Rey\",\"listeners\":\"1880719\",\"mbid\":\"b7539c32-53e7-4908-bda3-81449c367da6\",\"url\":\"https://www.last.fm/music/Lana+Del+Rey\",\"streamable\":\"0\",\"image\":[{\"#text\":\"https://lastfm-img2.akamaized.net/i/u/34s/bf44c670bd06815b5c61719d0e0dd1e9.png\",\"size\":\"small\"},{\"#text\":\"https://lastfm-img2.akamaized.net/i/u/64s/bf44c670bd06815b5c61719d0e0dd1e9.png\",\"size\":\"medium\"},{\"#text\":\"https://lastfm-img2.akamaized.net/i/u/174s/bf44c670bd06815b5c61719d0e0dd1e9.png\",\"size\":\"large\"},{\"#text\":\"https://lastfm-img2.akamaized.net/i/u/300x300/bf44c670bd06815b5c61719d0e0dd1e9.png\",\"size\":\"extralarge\"},{\"#text\":\"https://lastfm-img2.akamaized.net/i/u/300x300/bf44c670bd06815b5c61719d0e0dd1e9.png\",\"size\":\"mega\"}]},{\"name\":\"Oasis\",\"listeners\":\"3591752\",\"mbid\":\"ecf9f3a3-35e9-4c58-acaa-e707fba45060\",\"url\":\"https://www.last.fm/music/Oasis\",\"streamable\":\"0\",\"image\":[{\"#text\":\"https://lastfm-img2.akamaized.net/i/u/34s/08300481d8484150c13b769007cac3ef.png\",\"size\":\"small\"},{\"#text\":\"https://lastfm-img2.akamaized.net/i/u/64s/08300481d8484150c13b769007cac3ef.png\",\"size\":\"medium\"},{\"#text\":\"https://lastfm-img2.akamaized.net/i/u/174s/08300481d8484150c13b769007cac3ef.png\",\"size\":\"large\"},{\"#text\":\"https://lastfm-img2.akamaized.net/i/u/300x300/08300481d8484150c13b769007cac3ef.png\",\"size\":\"extralarge\"},{\"#text\":\"https://lastfm-img2.akamaized.net/i/u/300x300/08300481d8484150c13b769007cac3ef.png\",\"size\":\"mega\"}]},{\"name\":\"Franz Ferdinand\",\"listeners\":\"3202809\",\"mbid\":\"aa7a2827-f74b-473c-bd79-03d065835cf7\",\"url\":\"https://www.last.fm/music/Franz+Ferdinand\",\"streamable\":\"0\",\"image\":[{\"#text\":\"https://lastfm-img2.akamaized.net/i/u/34s/0c948a302e833c4c71f9cc360c8e83ac.png\",\"size\":\"small\"},{\"#text\":\"https://lastfm-img2.akamaized.net/i/u/64s/0c948a302e833c4c71f9cc360c8e83ac.png\",\"size\":\"medium\"},{\"#text\":\"https://lastfm-img2.akamaized.net/i/u/174s/0c948a302e833c4c71f9cc360c8e83ac.png\",\"size\":\"large\"},{\"#text\":\"https://lastfm-img2.akamaized.net/i/u/300x300/0c948a302e833c4c71f9cc360c8e83ac.png\",\"size\":\"extralarge\"},{\"#text\":\"https://lastfm-img2.akamaized.net/i/u/300x300/0c948a302e833c4c71f9cc360c8e83ac.png\",\"size\":\"mega\"}]},{\"name\":\"The Smiths\",\"listeners\":\"2296839\",\"mbid\":\"40f5d9e4-2de7-4f2d-ad41-e31a9a9fea27\",\"url\":\"https://www.last.fm/music/The+Smiths\",\"streamable\":\"0\",\"image\":[{\"#text\":\"https://lastfm-img2.akamaized.net/i/u/34s/1f6b747994bdbbd09eda60f30f6b52ee.png\",\"size\":\"small\"},{\"#text\":\"https://lastfm-img2.akamaized.net/i/u/64s/1f6b747994bdbbd09eda60f30f6b52ee.png\",\"size\":\"medium\"},{\"#text\":\"https://lastfm-img2.akamaized.net/i/u/174s/1f6b747994bdbbd09eda60f30f6b52ee.png\",\"size\":\"large\"},{\"#text\":\"https://lastfm-img2.akamaized.net/i/u/300x300/1f6b747994bdbbd09eda60f30f6b52ee.png\",\"size\":\"extralarge\"},{\"#text\":\"https://lastfm-img2.akamaized.net/i/u/300x300/1f6b747994bdbbd09eda60f30f6b52ee.png\",\"size\":\"mega\"}]},{\"name\":\"Florence + the Machine\",\"listeners\":\"2412469\",\"mbid\":\"5fee3020-513b-48c2-b1f7-4681b01db0c6\",\"url\":\"https://www.last.fm/music/Florence+%252B+the+Machine\",\"streamable\":\"0\",\"image\":[{\"#text\":\"https://lastfm-img2.akamaized.net/i/u/34s/d5090d78fe8a9df00c04ff3c08b804a7.png\",\"size\":\"small\"},{\"#text\":\"https://lastfm-img2.akamaized.net/i/u/64s/d5090d78fe8a9df00c04ff3c08b804a7.png\",\"size\":\"medium\"},{\"#text\":\"https://lastfm-img2.akamaized.net/i/u/174s/d5090d78fe8a9df00c04ff3c08b804a7.png\",\"size\":\"large\"},{\"#text\":\"https://lastfm-img2.akamaized.net/i/u/300x300/d5090d78fe8a9df00c04ff3c08b804a7.png\",\"size\":\"extralarge\"},{\"#text\":\"https://lastfm-img2.akamaized.net/i/u/300x300/d5090d78fe8a9df00c04ff3c08b804a7.png\",\"size\":\"mega\"}]},{\"name\":\"Drake\",\"listeners\":\"3379470\",\"mbid\":\"b49b81cc-d5b7-4bdd-aadb-385df8de69a6\",\"url\":\"https://www.last.fm/music/Drake\",\"streamable\":\"0\",\"image\":[{\"#text\":\"https://lastfm-img2.akamaized.net/i/u/34s/8b1974079754d9a3e194076bccd4f696.png\",\"size\":\"small\"},{\"#text\":\"https://lastfm-img2.akamaized.net/i/u/64s/8b1974079754d9a3e194076bccd4f696.png\",\"size\":\"medium\"},{\"#text\":\"https://lastfm-img2.akamaized.net/i/u/174s/8b1974079754d9a3e194076bccd4f696.png\",\"size\":\"large\"},{\"#text\":\"https://lastfm-img2.akamaized.net/i/u/300x300/8b1974079754d9a3e194076bccd4f696.png\",\"size\":\"extralarge\"},{\"#text\":\"https://lastfm-img2.akamaized.net/i/u/300x300/8b1974079754d9a3e194076bccd4f696.png\",\"size\":\"mega\"}]},{\"name\":\"Gorillaz\",\"listeners\":\"3577755\",\"mbid\":\"e21857d5-3256-4547-afb3-4b6ded592596\",\"url\":\"https://www.last.fm/music/Gorillaz\",\"streamable\":\"0\",\"image\":[{\"#text\":\"https://lastfm-img2.akamaized.net/i/u/34s/36422c10f46150b432a7d0ddbc87c5d3.png\",\"size\":\"small\"},{\"#text\":\"https://lastfm-img2.akamaized.net/i/u/64s/36422c10f46150b432a7d0ddbc87c5d3.png\",\"size\":\"medium\"},{\"#text\":\"https://lastfm-img2.akamaized.net/i/u/174s/36422c10f46150b432a7d0ddbc87c5d3.png\",\"size\":\"large\"},{\"#text\":\"https://lastfm-img2.akamaized.net/i/u/300x300/36422c10f46150b432a7d0ddbc87c5d3.png\",\"size\":\"extralarge\"},{\"#text\":\"https://lastfm-img2.akamaized.net/i/u/300x300/36422c10f46150b432a7d0ddbc87c5d3.png\",\"size\":\"mega\"}]},{\"name\":\"The Clash\",\"listeners\":\"2339703\",\"mbid\":\"8f92558c-2baa-4758-8c38-615519e9deda\",\"url\":\"https://www.last.fm/music/The+Clash\",\"streamable\":\"0\",\"image\":[{\"#text\":\"https://lastfm-img2.akamaized.net/i/u/34s/26f9a3dbb8514f0abb36417324f94b66.png\",\"size\":\"small\"},{\"#text\":\"https://lastfm-img2.akamaized.net/i/u/64s/26f9a3dbb8514f0abb36417324f94b66.png\",\"size\":\"medium\"},{\"#text\":\"https://lastfm-img2.akamaized.net/i/u/174s/26f9a3dbb8514f0abb36417324f94b66.png\",\"size\":\"large\"},{\"#text\":\"https://lastfm-img2.akamaized.net/i/u/300x300/26f9a3dbb8514f0abb36417324f94b66.png\",\"size\":\"extralarge\"},{\"#text\":\"https://lastfm-img2.akamaized.net/i/u/300x300/26f9a3dbb8514f0abb36417324f94b66.png\",\"size\":\"mega\"}]},{\"name\":\"David Guetta\",\"listeners\":\"2782481\",\"mbid\":\"302bd7b9-d012-4360-897a-93b00c855680\",\"url\":\"https://www.last.fm/music/David+Guetta\",\"streamable\":\"0\",\"image\":[{\"#text\":\"https://lastfm-img2.akamaized.net/i/u/34s/17d74dbec15abf6b11f25b0eb54d58ab.png\",\"size\":\"small\"},{\"#text\":\"https://lastfm-img2.akamaized.net/i/u/64s/17d74dbec15abf6b11f25b0eb54d58ab.png\",\"size\":\"medium\"},{\"#text\":\"https://lastfm-img2.akamaized.net/i/u/174s/17d74dbec15abf6b11f25b0eb54d58ab.png\",\"size\":\"large\"},{\"#text\":\"https://lastfm-img2.akamaized.net/i/u/300x300/17d74dbec15abf6b11f25b0eb54d58ab.png\",\"size\":\"extralarge\"},{\"#text\":\"https://lastfm-img2.akamaized.net/i/u/300x300/17d74dbec15abf6b11f25b0eb54d58ab.png\",\"size\":\"mega\"}]},{\"name\":\"The White Stripes\",\"listeners\":\"2955761\",\"mbid\":\"11ae9fbb-f3d7-4a47-936f-4c0a04d3b3b5\",\"url\":\"https://www.last.fm/music/The+White+Stripes\",\"streamable\":\"0\",\"image\":[{\"#text\":\"https://lastfm-img2.akamaized.net/i/u/34s/e2196ab226a5406481d786d22dbff3c2.png\",\"size\":\"small\"},{\"#text\":\"https://lastfm-img2.akamaized.net/i/u/64s/e2196ab226a5406481d786d22dbff3c2.png\",\"size\":\"medium\"},{\"#text\":\"https://lastfm-img2.akamaized.net/i/u/174s/e2196ab226a5406481d786d22dbff3c2.png\",\"size\":\"large\"},{\"#text\":\"https://lastfm-img2.akamaized.net/i/u/300x300/e2196ab226a5406481d786d22dbff3c2.png\",\"size\":\"extralarge\"},{\"#text\":\"https://lastfm-img2.akamaized.net/i/u/300x300/e2196ab226a5406481d786d22dbff3c2.png\",\"size\":\"mega\"}]},{\"name\":\"Beck\",\"listeners\":\"2918045\",\"mbid\":\"a8baaa41-50f1-4f63-979e-717c14979dfb\",\"url\":\"https://www.last.fm/music/Beck\",\"streamable\":\"0\",\"image\":[{\"#text\":\"https://lastfm-img2.akamaized.net/i/u/34s/7cb2ec367a3b45d68ad83fc73717b4c0.png\",\"size\":\"small\"},{\"#text\":\"https://lastfm-img2.akamaized.net/i/u/64s/7cb2ec367a3b45d68ad83fc73717b4c0.png\",\"size\":\"medium\"},{\"#text\":\"https://lastfm-img2.akamaized.net/i/u/174s/7cb2ec367a3b45d68ad83fc73717b4c0.png\",\"size\":\"large\"},{\"#text\":\"https://lastfm-img2.akamaized.net/i/u/300x300/7cb2ec367a3b45d68ad83fc73717b4c0.png\",\"size\":\"extralarge\"},{\"#text\":\"https://lastfm-img2.akamaized.net/i/u/300x300/7cb2ec367a3b45d68ad83fc73717b4c0.png\",\"size\":\"mega\"}]},{\"name\":\"Pixies\",\"listeners\":\"2319155\",\"mbid\":\"b6b2bb8d-54a9-491f-9607-7b546023b433\",\"url\":\"https://www.last.fm/music/Pixies\",\"streamable\":\"0\",\"image\":[{\"#text\":\"https://lastfm-img2.akamaized.net/i/u/34s/96dc6b9e845e44a6ab04a7f4c084d0f8.png\",\"size\":\"small\"},{\"#text\":\"https://lastfm-img2.akamaized.net/i/u/64s/96dc6b9e845e44a6ab04a7f4c084d0f8.png\",\"size\":\"medium\"},{\"#text\":\"https://lastfm-img2.akamaized.net/i/u/174s/96dc6b9e845e44a6ab04a7f4c084d0f8.png\",\"size\":\"large\"},{\"#text\":\"https://lastfm-img2.akamaized.net/i/u/300x300/96dc6b9e845e44a6ab04a7f4c084d0f8.png\",\"size\":\"extralarge\"},{\"#text\":\"https://lastfm-img2.akamaized.net/i/u/300x300/96dc6b9e845e44a6ab04a7f4c084d0f8.png\",\"size\":\"mega\"}]},{\"name\":\"New Order\",\"listeners\":\"1812126\",\"mbid\":\"f1106b17-dcbb-45f6-b938-199ccfab50cc\",\"url\":\"https://www.last.fm/music/New+Order\",\"streamable\":\"0\",\"image\":[{\"#text\":\"https://lastfm-img2.akamaized.net/i/u/34s/2b066d21783d466da5a95c128ba1c53e.png\",\"size\":\"small\"},{\"#text\":\"https://lastfm-img2.akamaized.net/i/u/64s/2b066d21783d466da5a95c128ba1c53e.png\",\"size\":\"medium\"},{\"#text\":\"https://lastfm-img2.akamaized.net/i/u/174s/2b066d21783d466da5a95c128ba1c53e.png\",\"size\":\"large\"},{\"#text\":\"https://lastfm-img2.akamaized.net/i/u/300x300/2b066d21783d466da5a95c128ba1c53e.png\",\"size\":\"extralarge\"},{\"#text\":\"https://lastfm-img2.akamaized.net/i/u/300x300/2b066d21783d466da5a95c128ba1c53e.png\",\"size\":\"mega\"}]},{\"name\":\"Kings of Leon\",\"listeners\":\"3437412\",\"mbid\":\"6ffb8ea9-2370-44d8-b678-e9237bbd347b\",\"url\":\"https://www.last.fm/music/Kings+of+Leon\",\"streamable\":\"0\",\"image\":[{\"#text\":\"https://lastfm-img2.akamaized.net/i/u/34s/d4745592855cae1d6b92b4694c662be7.png\",\"size\":\"small\"},{\"#text\":\"https://lastfm-img2.akamaized.net/i/u/64s/d4745592855cae1d6b92b4694c662be7.png\",\"size\":\"medium\"},{\"#text\":\"https://lastfm-img2.akamaized.net/i/u/174s/d4745592855cae1d6b92b4694c662be7.png\",\"size\":\"large\"},{\"#text\":\"https://lastfm-img2.akamaized.net/i/u/300x300/d4745592855cae1d6b92b4694c662be7.png\",\"size\":\"extralarge\"},{\"#text\":\"https://lastfm-img2.akamaized.net/i/u/300x300/d4745592855cae1d6b92b4694c662be7.png\",\"size\":\"mega\"}]},{\"name\":\"Foals\",\"listeners\":\"1452814\",\"mbid\":\"6a65d878-fcd0-42cf-aff9-ca1d636a8bcc\",\"url\":\"https://www.last.fm/music/Foals\",\"streamable\":\"0\",\"image\":[{\"#text\":\"https://lastfm-img2.akamaized.net/i/u/34s/25918f3647d562879c6e9247aa410d33.png\",\"size\":\"small\"},{\"#text\":\"https://lastfm-img2.akamaized.net/i/u/64s/25918f3647d562879c6e9247aa410d33.png\",\"size\":\"medium\"},{\"#text\":\"https://lastfm-img2.akamaized.net/i/u/174s/25918f3647d562879c6e9247aa410d33.png\",\"size\":\"large\"},{\"#text\":\"https://lastfm-img2.akamaized.net/i/u/300x300/25918f3647d562879c6e9247aa410d33.png\",\"size\":\"extralarge\"},{\"#text\":\"https://lastfm-img2.akamaized.net/i/u/300x300/25918f3647d562879c6e9247aa410d33.png\",\"size\":\"mega\"}]}],\"@attr\":{\"country\":\"Spain\",\"page\":\"1\",\"perPage\":\"50\",\"totalPages\":\"13716\",\"total\":\"685768\"}}}\n"
          ],
          "name": "stdout"
        }
      ]
    },
    {
      "cell_type": "code",
      "metadata": {
        "id": "UIqeypW9zGYT",
        "colab_type": "code",
        "colab": {}
      },
      "source": [
        "data = json.loads(data)"
      ],
      "execution_count": 0,
      "outputs": []
    },
    {
      "cell_type": "code",
      "metadata": {
        "id": "dul96G8bzGzS",
        "colab_type": "code",
        "colab": {}
      },
      "source": [
        "import pandas as pd\n",
        "artist_name = []\n",
        "artist_listeners = []\n",
        "for artist in data['topartists']['artist']:\n",
        "  artist_name.append(artist['name'])\n",
        "  artist_listeners.append(int(artist['listeners']))\n",
        "  \n",
        "df = pd.DataFrame({'name': artist_name, 'listeners': artist_listeners})"
      ],
      "execution_count": 0,
      "outputs": []
    },
    {
      "cell_type": "code",
      "metadata": {
        "id": "rz3htzmQzOTZ",
        "colab_type": "code",
        "outputId": "5e6122a5-2622-4428-a195-70a4d49c4cd8",
        "colab": {
          "base_uri": "https://localhost:8080/",
          "height": 80
        }
      },
      "source": [
        "# RESPOSTA\n",
        "max_listeners = df['listeners'].max()\n",
        "df[df['listeners'] == max_listeners]"
      ],
      "execution_count": 0,
      "outputs": [
        {
          "output_type": "execute_result",
          "data": {
            "text/html": [
              "<div>\n",
              "<style scoped>\n",
              "    .dataframe tbody tr th:only-of-type {\n",
              "        vertical-align: middle;\n",
              "    }\n",
              "\n",
              "    .dataframe tbody tr th {\n",
              "        vertical-align: top;\n",
              "    }\n",
              "\n",
              "    .dataframe thead th {\n",
              "        text-align: right;\n",
              "    }\n",
              "</style>\n",
              "<table border=\"1\" class=\"dataframe\">\n",
              "  <thead>\n",
              "    <tr style=\"text-align: right;\">\n",
              "      <th></th>\n",
              "      <th>listeners</th>\n",
              "      <th>name</th>\n",
              "    </tr>\n",
              "  </thead>\n",
              "  <tbody>\n",
              "    <tr>\n",
              "      <th>2</th>\n",
              "      <td>5381410</td>\n",
              "      <td>Coldplay</td>\n",
              "    </tr>\n",
              "  </tbody>\n",
              "</table>\n",
              "</div>"
            ],
            "text/plain": [
              "   listeners      name\n",
              "2    5381410  Coldplay"
            ]
          },
          "metadata": {
            "tags": []
          },
          "execution_count": 40
        }
      ]
    },
    {
      "cell_type": "code",
      "metadata": {
        "id": "lcjygCiE1X4s",
        "colab_type": "code",
        "outputId": "f1e3c7e7-ad41-453c-a318-c4ea6bfcb501",
        "colab": {
          "base_uri": "https://localhost:8080/",
          "height": 204
        }
      },
      "source": [
        "df.sort_values(by='listeners', ascending=False).head()"
      ],
      "execution_count": 0,
      "outputs": [
        {
          "output_type": "execute_result",
          "data": {
            "text/html": [
              "<div>\n",
              "<style scoped>\n",
              "    .dataframe tbody tr th:only-of-type {\n",
              "        vertical-align: middle;\n",
              "    }\n",
              "\n",
              "    .dataframe tbody tr th {\n",
              "        vertical-align: top;\n",
              "    }\n",
              "\n",
              "    .dataframe thead th {\n",
              "        text-align: right;\n",
              "    }\n",
              "</style>\n",
              "<table border=\"1\" class=\"dataframe\">\n",
              "  <thead>\n",
              "    <tr style=\"text-align: right;\">\n",
              "      <th></th>\n",
              "      <th>listeners</th>\n",
              "      <th>name</th>\n",
              "    </tr>\n",
              "  </thead>\n",
              "  <tbody>\n",
              "    <tr>\n",
              "      <th>2</th>\n",
              "      <td>5381410</td>\n",
              "      <td>Coldplay</td>\n",
              "    </tr>\n",
              "    <tr>\n",
              "      <th>1</th>\n",
              "      <td>4731770</td>\n",
              "      <td>Radiohead</td>\n",
              "    </tr>\n",
              "    <tr>\n",
              "      <th>10</th>\n",
              "      <td>4620228</td>\n",
              "      <td>Red Hot Chili Peppers</td>\n",
              "    </tr>\n",
              "    <tr>\n",
              "      <th>31</th>\n",
              "      <td>4557309</td>\n",
              "      <td>Rihanna</td>\n",
              "    </tr>\n",
              "    <tr>\n",
              "      <th>28</th>\n",
              "      <td>4427988</td>\n",
              "      <td>The Killers</td>\n",
              "    </tr>\n",
              "  </tbody>\n",
              "</table>\n",
              "</div>"
            ],
            "text/plain": [
              "    listeners                   name\n",
              "2     5381410               Coldplay\n",
              "1     4731770              Radiohead\n",
              "10    4620228  Red Hot Chili Peppers\n",
              "31    4557309                Rihanna\n",
              "28    4427988            The Killers"
            ]
          },
          "metadata": {
            "tags": []
          },
          "execution_count": 41
        }
      ]
    },
    {
      "cell_type": "code",
      "metadata": {
        "id": "FthUKDf58QEh",
        "colab_type": "code",
        "outputId": "1d555711-6943-4dca-8b87-28e895c7f4bb",
        "colab": {
          "base_uri": "https://localhost:8080/",
          "height": 136
        }
      },
      "source": [
        "df.info()"
      ],
      "execution_count": 0,
      "outputs": [
        {
          "output_type": "stream",
          "text": [
            "<class 'pandas.core.frame.DataFrame'>\n",
            "RangeIndex: 50 entries, 0 to 49\n",
            "Data columns (total 2 columns):\n",
            "listeners    50 non-null int64\n",
            "name         50 non-null object\n",
            "dtypes: int64(1), object(1)\n",
            "memory usage: 880.0+ bytes\n"
          ],
          "name": "stdout"
        }
      ]
    },
    {
      "cell_type": "code",
      "metadata": {
        "id": "KP10R7x1QYq3",
        "colab_type": "code",
        "colab": {}
      },
      "source": [
        ""
      ],
      "execution_count": 0,
      "outputs": []
    }
  ]
}