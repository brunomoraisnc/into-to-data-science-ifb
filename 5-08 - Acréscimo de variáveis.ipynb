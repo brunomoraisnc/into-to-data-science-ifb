{
  "nbformat": 4,
  "nbformat_minor": 0,
  "metadata": {
    "colab": {
      "name": "5.8 - Acréscimo de variáveis - BRUNO MORAIS NEVES DE CASTRO",
      "version": "0.3.2",
      "provenance": [],
      "collapsed_sections": [],
      "include_colab_link": true
    },
    "kernelspec": {
      "name": "python3",
      "display_name": "Python 3"
    }
  },
  "cells": [
    {
      "cell_type": "markdown",
      "metadata": {
        "id": "view-in-github",
        "colab_type": "text"
      },
      "source": [
        "<a href=\"https://colab.research.google.com/github/brunomoraisnc/into-to-data-science-ifb/blob/master/5_8_Acr%C3%A9scimo_de_vari%C3%A1veis_BRUNO_MORAIS_NEVES_DE_CASTRO.ipynb\" target=\"_parent\"><img src=\"https://colab.research.google.com/assets/colab-badge.svg\" alt=\"Open In Colab\"/></a>"
      ]
    },
    {
      "cell_type": "code",
      "metadata": {
        "id": "n51Jfv949PGP",
        "colab_type": "code",
        "colab": {}
      },
      "source": [
        "import numpy as np\n",
        "import pandas as pd\n",
        "\n",
        "import matplotlib.pyplot as plt\n",
        "import seaborn as sns\n",
        "\n",
        "plt.style.use('ggplot')\n",
        "%matplotlib inline"
      ],
      "execution_count": 0,
      "outputs": []
    },
    {
      "cell_type": "markdown",
      "metadata": {
        "id": "VXYjHm0u9x2T",
        "colab_type": "text"
      },
      "source": [
        "1. Carregar o seu arquivo df_OVNI_limpo.csv (arquivo gerado após a limpeza de dados efetuada na atividade 5.7) em um dataframe;"
      ]
    },
    {
      "cell_type": "code",
      "metadata": {
        "id": "1MmfMpom9XKG",
        "colab_type": "code",
        "outputId": "d943ee25-d0da-4567-c34f-55c62aadafac",
        "colab": {
          "base_uri": "https://localhost:8080/",
          "height": 374
        }
      },
      "source": [
        "df = pd.read_csv('https://raw.githubusercontent.com/oliveirafhm/data_science/master/df_OVNI_limpo.csv')\n",
        "df = df.drop(['Unnamed: 0'], axis=1)\n",
        "\n",
        "print(df.info())\n",
        "df.head()"
      ],
      "execution_count": 0,
      "outputs": [
        {
          "output_type": "stream",
          "text": [
            "<class 'pandas.core.frame.DataFrame'>\n",
            "RangeIndex: 80046 entries, 0 to 80045\n",
            "Data columns (total 4 columns):\n",
            "Date / Time    80046 non-null object\n",
            "City           80046 non-null object\n",
            "State          80046 non-null object\n",
            "Shape          80046 non-null object\n",
            "dtypes: object(4)\n",
            "memory usage: 2.4+ MB\n",
            "None\n"
          ],
          "name": "stdout"
        },
        {
          "output_type": "execute_result",
          "data": {
            "text/html": [
              "<div>\n",
              "<style scoped>\n",
              "    .dataframe tbody tr th:only-of-type {\n",
              "        vertical-align: middle;\n",
              "    }\n",
              "\n",
              "    .dataframe tbody tr th {\n",
              "        vertical-align: top;\n",
              "    }\n",
              "\n",
              "    .dataframe thead th {\n",
              "        text-align: right;\n",
              "    }\n",
              "</style>\n",
              "<table border=\"1\" class=\"dataframe\">\n",
              "  <thead>\n",
              "    <tr style=\"text-align: right;\">\n",
              "      <th></th>\n",
              "      <th>Date / Time</th>\n",
              "      <th>City</th>\n",
              "      <th>State</th>\n",
              "      <th>Shape</th>\n",
              "    </tr>\n",
              "  </thead>\n",
              "  <tbody>\n",
              "    <tr>\n",
              "      <th>0</th>\n",
              "      <td>1/29/97 23:15</td>\n",
              "      <td>East Greenwich</td>\n",
              "      <td>RI</td>\n",
              "      <td>Disk</td>\n",
              "    </tr>\n",
              "    <tr>\n",
              "      <th>1</th>\n",
              "      <td>1/26/97 22:00</td>\n",
              "      <td>Flagstaff</td>\n",
              "      <td>AZ</td>\n",
              "      <td>Light</td>\n",
              "    </tr>\n",
              "    <tr>\n",
              "      <th>2</th>\n",
              "      <td>1/25/97 21:00</td>\n",
              "      <td>Marion</td>\n",
              "      <td>WI</td>\n",
              "      <td>Triangle</td>\n",
              "    </tr>\n",
              "    <tr>\n",
              "      <th>3</th>\n",
              "      <td>1/24/97 19:00</td>\n",
              "      <td>Alta</td>\n",
              "      <td>UT</td>\n",
              "      <td>Other</td>\n",
              "    </tr>\n",
              "    <tr>\n",
              "      <th>4</th>\n",
              "      <td>1/23/97 18:30</td>\n",
              "      <td>North Kingstown</td>\n",
              "      <td>RI</td>\n",
              "      <td>Triangle</td>\n",
              "    </tr>\n",
              "  </tbody>\n",
              "</table>\n",
              "</div>"
            ],
            "text/plain": [
              "     Date / Time             City State     Shape\n",
              "0  1/29/97 23:15   East Greenwich    RI      Disk\n",
              "1  1/26/97 22:00        Flagstaff    AZ     Light\n",
              "2  1/25/97 21:00           Marion    WI  Triangle\n",
              "3  1/24/97 19:00             Alta    UT     Other\n",
              "4  1/23/97 18:30  North Kingstown    RI  Triangle"
            ]
          },
          "metadata": {
            "tags": []
          },
          "execution_count": 2
        }
      ]
    },
    {
      "cell_type": "markdown",
      "metadata": {
        "id": "9zuXfeDS9cGP",
        "colab_type": "text"
      },
      "source": [
        "2. Dividir o conteúdo da coluna Date / Time em duas novas colunas no mesmo dataframe e deletar a coluna Date / Time ."
      ]
    },
    {
      "cell_type": "code",
      "metadata": {
        "id": "1bNoNHDR93fu",
        "colab_type": "code",
        "outputId": "d41fd69b-4b84-4b3d-fe92-140ac9f52dc3",
        "colab": {
          "base_uri": "https://localhost:8080/",
          "height": 204
        }
      },
      "source": [
        "df['Date / Time'] = pd.to_datetime(df['Date / Time'], infer_datetime_format=True)\n",
        "\n",
        "df['sight_date'] = df['Date / Time'].dt.strftime(date_format='%Y-%m-%d')\n",
        "df['sight_time'] = df['Date / Time'].dt.strftime(date_format='%H:%M')\n",
        "\n",
        "df = df.drop(['Date / Time'], axis=1)\n",
        "\n",
        "df.head()"
      ],
      "execution_count": 0,
      "outputs": [
        {
          "output_type": "execute_result",
          "data": {
            "text/html": [
              "<div>\n",
              "<style scoped>\n",
              "    .dataframe tbody tr th:only-of-type {\n",
              "        vertical-align: middle;\n",
              "    }\n",
              "\n",
              "    .dataframe tbody tr th {\n",
              "        vertical-align: top;\n",
              "    }\n",
              "\n",
              "    .dataframe thead th {\n",
              "        text-align: right;\n",
              "    }\n",
              "</style>\n",
              "<table border=\"1\" class=\"dataframe\">\n",
              "  <thead>\n",
              "    <tr style=\"text-align: right;\">\n",
              "      <th></th>\n",
              "      <th>City</th>\n",
              "      <th>State</th>\n",
              "      <th>Shape</th>\n",
              "      <th>sight_date</th>\n",
              "      <th>sight_time</th>\n",
              "    </tr>\n",
              "  </thead>\n",
              "  <tbody>\n",
              "    <tr>\n",
              "      <th>0</th>\n",
              "      <td>East Greenwich</td>\n",
              "      <td>RI</td>\n",
              "      <td>Disk</td>\n",
              "      <td>1997-01-29</td>\n",
              "      <td>23:15</td>\n",
              "    </tr>\n",
              "    <tr>\n",
              "      <th>1</th>\n",
              "      <td>Flagstaff</td>\n",
              "      <td>AZ</td>\n",
              "      <td>Light</td>\n",
              "      <td>1997-01-26</td>\n",
              "      <td>22:00</td>\n",
              "    </tr>\n",
              "    <tr>\n",
              "      <th>2</th>\n",
              "      <td>Marion</td>\n",
              "      <td>WI</td>\n",
              "      <td>Triangle</td>\n",
              "      <td>1997-01-25</td>\n",
              "      <td>21:00</td>\n",
              "    </tr>\n",
              "    <tr>\n",
              "      <th>3</th>\n",
              "      <td>Alta</td>\n",
              "      <td>UT</td>\n",
              "      <td>Other</td>\n",
              "      <td>1997-01-24</td>\n",
              "      <td>19:00</td>\n",
              "    </tr>\n",
              "    <tr>\n",
              "      <th>4</th>\n",
              "      <td>North Kingstown</td>\n",
              "      <td>RI</td>\n",
              "      <td>Triangle</td>\n",
              "      <td>1997-01-23</td>\n",
              "      <td>18:30</td>\n",
              "    </tr>\n",
              "  </tbody>\n",
              "</table>\n",
              "</div>"
            ],
            "text/plain": [
              "              City State     Shape  sight_date sight_time\n",
              "0   East Greenwich    RI      Disk  1997-01-29      23:15\n",
              "1        Flagstaff    AZ     Light  1997-01-26      22:00\n",
              "2           Marion    WI  Triangle  1997-01-25      21:00\n",
              "3             Alta    UT     Other  1997-01-24      19:00\n",
              "4  North Kingstown    RI  Triangle  1997-01-23      18:30"
            ]
          },
          "metadata": {
            "tags": []
          },
          "execution_count": 3
        }
      ]
    },
    {
      "cell_type": "markdown",
      "metadata": {
        "id": "IFyqPcMdAlAN",
        "colab_type": "text"
      },
      "source": [
        "3. Fazer o mesmo procedimento para dias da semana. Será que existe um dia da semana com mais ocorrências de relatórios para OVNIs? Para descobrir isso, você deve criar uma nova coluna chamada weekdays."
      ]
    },
    {
      "cell_type": "code",
      "metadata": {
        "id": "3PELjeNqA0sM",
        "colab_type": "code",
        "outputId": "14656872-9974-48a9-9fab-72c30a916ec2",
        "colab": {
          "base_uri": "https://localhost:8080/",
          "height": 204
        }
      },
      "source": [
        "df['sight_weekday'] = pd.to_datetime(df['sight_date'])\n",
        "df['sight_weekday'] = df['sight_weekday'].dt.weekday_name\n",
        "\n",
        "weekday_ptbr = {\n",
        "    'Monday': 'Segunda-feira',\n",
        "    'Tuesday': 'Terça-feira',\n",
        "    'Wednesday': 'Quarta-feira',\n",
        "    'Thursday': 'Quinta-feira',\n",
        "    'Friday': 'Sexta-feira',\n",
        "    'Saturday': 'Sábado',\n",
        "    'Sunday': 'Domingo'\n",
        "}\n",
        "\n",
        "df = df.replace({'sight_weekday': weekday_ptbr})\n",
        "\n",
        "df.head()"
      ],
      "execution_count": 0,
      "outputs": [
        {
          "output_type": "execute_result",
          "data": {
            "text/html": [
              "<div>\n",
              "<style scoped>\n",
              "    .dataframe tbody tr th:only-of-type {\n",
              "        vertical-align: middle;\n",
              "    }\n",
              "\n",
              "    .dataframe tbody tr th {\n",
              "        vertical-align: top;\n",
              "    }\n",
              "\n",
              "    .dataframe thead th {\n",
              "        text-align: right;\n",
              "    }\n",
              "</style>\n",
              "<table border=\"1\" class=\"dataframe\">\n",
              "  <thead>\n",
              "    <tr style=\"text-align: right;\">\n",
              "      <th></th>\n",
              "      <th>City</th>\n",
              "      <th>State</th>\n",
              "      <th>Shape</th>\n",
              "      <th>sight_date</th>\n",
              "      <th>sight_time</th>\n",
              "      <th>sight_weekday</th>\n",
              "    </tr>\n",
              "  </thead>\n",
              "  <tbody>\n",
              "    <tr>\n",
              "      <th>0</th>\n",
              "      <td>East Greenwich</td>\n",
              "      <td>RI</td>\n",
              "      <td>Disk</td>\n",
              "      <td>1997-01-29</td>\n",
              "      <td>23:15</td>\n",
              "      <td>Quarta-feira</td>\n",
              "    </tr>\n",
              "    <tr>\n",
              "      <th>1</th>\n",
              "      <td>Flagstaff</td>\n",
              "      <td>AZ</td>\n",
              "      <td>Light</td>\n",
              "      <td>1997-01-26</td>\n",
              "      <td>22:00</td>\n",
              "      <td>Domingo</td>\n",
              "    </tr>\n",
              "    <tr>\n",
              "      <th>2</th>\n",
              "      <td>Marion</td>\n",
              "      <td>WI</td>\n",
              "      <td>Triangle</td>\n",
              "      <td>1997-01-25</td>\n",
              "      <td>21:00</td>\n",
              "      <td>Sábado</td>\n",
              "    </tr>\n",
              "    <tr>\n",
              "      <th>3</th>\n",
              "      <td>Alta</td>\n",
              "      <td>UT</td>\n",
              "      <td>Other</td>\n",
              "      <td>1997-01-24</td>\n",
              "      <td>19:00</td>\n",
              "      <td>Sexta-feira</td>\n",
              "    </tr>\n",
              "    <tr>\n",
              "      <th>4</th>\n",
              "      <td>North Kingstown</td>\n",
              "      <td>RI</td>\n",
              "      <td>Triangle</td>\n",
              "      <td>1997-01-23</td>\n",
              "      <td>18:30</td>\n",
              "      <td>Quinta-feira</td>\n",
              "    </tr>\n",
              "  </tbody>\n",
              "</table>\n",
              "</div>"
            ],
            "text/plain": [
              "              City State     Shape  sight_date sight_time sight_weekday\n",
              "0   East Greenwich    RI      Disk  1997-01-29      23:15  Quarta-feira\n",
              "1        Flagstaff    AZ     Light  1997-01-26      22:00       Domingo\n",
              "2           Marion    WI  Triangle  1997-01-25      21:00        Sábado\n",
              "3             Alta    UT     Other  1997-01-24      19:00   Sexta-feira\n",
              "4  North Kingstown    RI  Triangle  1997-01-23      18:30  Quinta-feira"
            ]
          },
          "metadata": {
            "tags": []
          },
          "execution_count": 4
        }
      ]
    },
    {
      "cell_type": "code",
      "metadata": {
        "id": "oszj0tMOD-Gi",
        "colab_type": "code",
        "outputId": "a99f2ce5-537c-4c11-9d72-8f37a909c6c6",
        "colab": {
          "base_uri": "https://localhost:8080/",
          "height": 369
        }
      },
      "source": [
        "weekday_freq = df['sight_weekday'].value_counts().loc[['Domingo', 'Segunda-feira', 'Terça-feira', 'Quarta-feira', 'Quinta-feira', 'Sexta-feira', 'Sábado']].reset_index()\n",
        "\n",
        "plt.figure(figsize=(6,5))\n",
        "fig = sns.barplot(x='index', y='sight_weekday', data=weekday_freq)\n",
        "\n",
        "plt.title('Frequência de casos por dia da semana')\n",
        "\n",
        "plt.xlabel('Dia da semana')\n",
        "plt.ylabel('Quantidade')\n",
        "\n",
        "plt.xticks(rotation=45)\n",
        "plt.tight_layout()\n",
        "\n",
        "plt.show()"
      ],
      "execution_count": 0,
      "outputs": [
        {
          "output_type": "display_data",
          "data": {
            "image/png": "[encoded data removed]",
            "text/plain": [
              "<Figure size 432x360 with 1 Axes>"
            ]
          },
          "metadata": {
            "tags": []
          }
        }
      ]
    },
    {
      "cell_type": "markdown",
      "metadata": {
        "id": "Di6RiXUZGzE-",
        "colab_type": "text"
      },
      "source": [
        "R: Sábado é o dia com maior quantidade de ocorrências"
      ]
    },
    {
      "cell_type": "markdown",
      "metadata": {
        "id": "pBmp02PDDveS",
        "colab_type": "text"
      },
      "source": [
        "4. Separar as variáveis mês (Month) e dia (Day). Desse modo, será possível refinar as pesquisas."
      ]
    },
    {
      "cell_type": "code",
      "metadata": {
        "id": "ehhhcpY4CSQg",
        "colab_type": "code",
        "outputId": "2dbf33b2-7d1f-422f-fc60-c667bb3ac5d8",
        "colab": {
          "base_uri": "https://localhost:8080/",
          "height": 204
        }
      },
      "source": [
        "df['sight_day'] =  pd.to_datetime(df['sight_date']).dt.day\n",
        "df['sight_month'] = pd.to_datetime(df['sight_date']).dt.month\n",
        "\n",
        "df.head()"
      ],
      "execution_count": 0,
      "outputs": [
        {
          "output_type": "execute_result",
          "data": {
            "text/html": [
              "<div>\n",
              "<style scoped>\n",
              "    .dataframe tbody tr th:only-of-type {\n",
              "        vertical-align: middle;\n",
              "    }\n",
              "\n",
              "    .dataframe tbody tr th {\n",
              "        vertical-align: top;\n",
              "    }\n",
              "\n",
              "    .dataframe thead th {\n",
              "        text-align: right;\n",
              "    }\n",
              "</style>\n",
              "<table border=\"1\" class=\"dataframe\">\n",
              "  <thead>\n",
              "    <tr style=\"text-align: right;\">\n",
              "      <th></th>\n",
              "      <th>City</th>\n",
              "      <th>State</th>\n",
              "      <th>Shape</th>\n",
              "      <th>sight_date</th>\n",
              "      <th>sight_time</th>\n",
              "      <th>sight_weekday</th>\n",
              "      <th>sight_day</th>\n",
              "      <th>sight_month</th>\n",
              "    </tr>\n",
              "  </thead>\n",
              "  <tbody>\n",
              "    <tr>\n",
              "      <th>0</th>\n",
              "      <td>East Greenwich</td>\n",
              "      <td>RI</td>\n",
              "      <td>Disk</td>\n",
              "      <td>1997-01-29</td>\n",
              "      <td>23:15</td>\n",
              "      <td>Quarta-feira</td>\n",
              "      <td>29</td>\n",
              "      <td>1</td>\n",
              "    </tr>\n",
              "    <tr>\n",
              "      <th>1</th>\n",
              "      <td>Flagstaff</td>\n",
              "      <td>AZ</td>\n",
              "      <td>Light</td>\n",
              "      <td>1997-01-26</td>\n",
              "      <td>22:00</td>\n",
              "      <td>Domingo</td>\n",
              "      <td>26</td>\n",
              "      <td>1</td>\n",
              "    </tr>\n",
              "    <tr>\n",
              "      <th>2</th>\n",
              "      <td>Marion</td>\n",
              "      <td>WI</td>\n",
              "      <td>Triangle</td>\n",
              "      <td>1997-01-25</td>\n",
              "      <td>21:00</td>\n",
              "      <td>Sábado</td>\n",
              "      <td>25</td>\n",
              "      <td>1</td>\n",
              "    </tr>\n",
              "    <tr>\n",
              "      <th>3</th>\n",
              "      <td>Alta</td>\n",
              "      <td>UT</td>\n",
              "      <td>Other</td>\n",
              "      <td>1997-01-24</td>\n",
              "      <td>19:00</td>\n",
              "      <td>Sexta-feira</td>\n",
              "      <td>24</td>\n",
              "      <td>1</td>\n",
              "    </tr>\n",
              "    <tr>\n",
              "      <th>4</th>\n",
              "      <td>North Kingstown</td>\n",
              "      <td>RI</td>\n",
              "      <td>Triangle</td>\n",
              "      <td>1997-01-23</td>\n",
              "      <td>18:30</td>\n",
              "      <td>Quinta-feira</td>\n",
              "      <td>23</td>\n",
              "      <td>1</td>\n",
              "    </tr>\n",
              "  </tbody>\n",
              "</table>\n",
              "</div>"
            ],
            "text/plain": [
              "              City State     Shape  ... sight_weekday sight_day sight_month\n",
              "0   East Greenwich    RI      Disk  ...  Quarta-feira        29           1\n",
              "1        Flagstaff    AZ     Light  ...       Domingo        26           1\n",
              "2           Marion    WI  Triangle  ...        Sábado        25           1\n",
              "3             Alta    UT     Other  ...   Sexta-feira        24           1\n",
              "4  North Kingstown    RI  Triangle  ...  Quinta-feira        23           1\n",
              "\n",
              "[5 rows x 8 columns]"
            ]
          },
          "metadata": {
            "tags": []
          },
          "execution_count": 6
        }
      ]
    },
    {
      "cell_type": "markdown",
      "metadata": {
        "id": "_23MCgaSHGYl",
        "colab_type": "text"
      },
      "source": [
        "5. Por fim, salvar o dataframe resultante em um arquivo .csv com o nome: 'df_OVNI_preparado'.\n"
      ]
    },
    {
      "cell_type": "code",
      "metadata": {
        "id": "gPP8C_wFG6sU",
        "colab_type": "code",
        "colab": {}
      },
      "source": [
        "file_name = 'df_OVNI_preparado'\n",
        "df.to_csv(file_name + '.csv')"
      ],
      "execution_count": 0,
      "outputs": []
    },
    {
      "cell_type": "code",
      "metadata": {
        "id": "UqPlCrMUKAZS",
        "colab_type": "code",
        "colab": {}
      },
      "source": [
        "# !ipython nbconvert --to html 5_8_Acréscimo_de_variáveis_BRUNO_MORAIS_NEVES_DE_CASTRO.ipynb"
      ],
      "execution_count": 0,
      "outputs": []
    },
    {
      "cell_type": "code",
      "metadata": {
        "id": "14d6Poc5NMxj",
        "colab_type": "code",
        "colab": {}
      },
      "source": [
        ""
      ],
      "execution_count": 0,
      "outputs": []
    }
  ]
}