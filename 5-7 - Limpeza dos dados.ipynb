{
  "nbformat": 4,
  "nbformat_minor": 0,
  "metadata": {
    "colab": {
      "name": "5.7 - Limpeza dos dados - BRUNO MORAIS NEVES DE CASTRO",
      "version": "0.3.2",
      "provenance": [],
      "collapsed_sections": [],
      "toc_visible": true,
      "include_colab_link": true
    },
    "kernelspec": {
      "name": "python3",
      "display_name": "Python 3"
    }
  },
  "cells": [
    {
      "cell_type": "markdown",
      "metadata": {
        "id": "view-in-github",
        "colab_type": "text"
      },
      "source": [
        "<a href=\"https://colab.research.google.com/github/brunomoraisnc/into-to-data-science-ifb/blob/master/5_7_Limpeza_dos_dados_BRUNO_MORAIS_NEVES_DE_CASTRO.ipynb\" target=\"_parent\"><img src=\"https://colab.research.google.com/assets/colab-badge.svg\" alt=\"Open In Colab\"/></a>"
      ]
    },
    {
      "cell_type": "code",
      "metadata": {
        "id": "vTuWb7Fbvitg",
        "colab_type": "code",
        "colab": {}
      },
      "source": [
        "%matplotlib inline\n",
        "import numpy as np\n",
        "import pandas as pd\n",
        "import matplotlib.pyplot as plt\n",
        "import seaborn as sns"
      ],
      "execution_count": 0,
      "outputs": []
    },
    {
      "cell_type": "code",
      "metadata": {
        "id": "aYSXtiQmwYci",
        "colab_type": "code",
        "colab": {}
      },
      "source": [
        "# Lê o dataset\n",
        "df = pd.read_csv('ovni_dataset.csv')"
      ],
      "execution_count": 0,
      "outputs": []
    },
    {
      "cell_type": "code",
      "metadata": {
        "id": "mLwIpgQTyGOR",
        "colab_type": "code",
        "outputId": "01629946-38d1-4914-c21d-2511e6131612",
        "colab": {
          "base_uri": "https://localhost:8080/",
          "height": 204
        }
      },
      "source": [
        "# Apresenta brevemente o DF\n",
        "df.head()"
      ],
      "execution_count": 0,
      "outputs": [
        {
          "output_type": "execute_result",
          "data": {
            "text/html": [
              "<div>\n",
              "<style scoped>\n",
              "    .dataframe tbody tr th:only-of-type {\n",
              "        vertical-align: middle;\n",
              "    }\n",
              "\n",
              "    .dataframe tbody tr th {\n",
              "        vertical-align: top;\n",
              "    }\n",
              "\n",
              "    .dataframe thead th {\n",
              "        text-align: right;\n",
              "    }\n",
              "</style>\n",
              "<table border=\"1\" class=\"dataframe\">\n",
              "  <thead>\n",
              "    <tr style=\"text-align: right;\">\n",
              "      <th></th>\n",
              "      <th>Unnamed: 0</th>\n",
              "      <th>Date / Time</th>\n",
              "      <th>City</th>\n",
              "      <th>State</th>\n",
              "      <th>Shape</th>\n",
              "      <th>Duration</th>\n",
              "      <th>Summary</th>\n",
              "      <th>Posted</th>\n",
              "    </tr>\n",
              "  </thead>\n",
              "  <tbody>\n",
              "    <tr>\n",
              "      <th>0</th>\n",
              "      <td>0</td>\n",
              "      <td>9/30/17 23:00</td>\n",
              "      <td>Shokapee</td>\n",
              "      <td>MN</td>\n",
              "      <td>Formation</td>\n",
              "      <td>10 minutes</td>\n",
              "      <td>We noticed a really big circle made up of 12 s...</td>\n",
              "      <td>10/5/17</td>\n",
              "    </tr>\n",
              "    <tr>\n",
              "      <th>1</th>\n",
              "      <td>1</td>\n",
              "      <td>9/30/17 21:00</td>\n",
              "      <td>Wentzville</td>\n",
              "      <td>MO</td>\n",
              "      <td>Unknown</td>\n",
              "      <td>5-8 minutes</td>\n",
              "      <td>First spotted 4 at no partular pattern then sl...</td>\n",
              "      <td>10/5/17</td>\n",
              "    </tr>\n",
              "    <tr>\n",
              "      <th>2</th>\n",
              "      <td>2</td>\n",
              "      <td>9/30/17 21:00</td>\n",
              "      <td>Knoxville</td>\n",
              "      <td>TN</td>\n",
              "      <td>Flash</td>\n",
              "      <td>15-20 minutes</td>\n",
              "      <td>White Flashing Light in the Sky Not An Airplan...</td>\n",
              "      <td>10/5/17</td>\n",
              "    </tr>\n",
              "    <tr>\n",
              "      <th>3</th>\n",
              "      <td>3</td>\n",
              "      <td>9/30/17 20:30</td>\n",
              "      <td>Harpursville</td>\n",
              "      <td>NY</td>\n",
              "      <td>Circle</td>\n",
              "      <td>15</td>\n",
              "      <td>Several circles in a cluster then separated in...</td>\n",
              "      <td>10/5/17</td>\n",
              "    </tr>\n",
              "    <tr>\n",
              "      <th>4</th>\n",
              "      <td>4</td>\n",
              "      <td>9/30/17 19:57</td>\n",
              "      <td>Twin Falls</td>\n",
              "      <td>ID</td>\n",
              "      <td>Sphere</td>\n",
              "      <td>1:54</td>\n",
              "      <td>Unidentified Orb first witnessed slowly hoveri...</td>\n",
              "      <td>10/19/17</td>\n",
              "    </tr>\n",
              "  </tbody>\n",
              "</table>\n",
              "</div>"
            ],
            "text/plain": [
              "   Unnamed: 0  ...    Posted\n",
              "0           0  ...   10/5/17\n",
              "1           1  ...   10/5/17\n",
              "2           2  ...   10/5/17\n",
              "3           3  ...   10/5/17\n",
              "4           4  ...  10/19/17\n",
              "\n",
              "[5 rows x 8 columns]"
            ]
          },
          "metadata": {
            "tags": []
          },
          "execution_count": 3
        }
      ]
    },
    {
      "cell_type": "code",
      "metadata": {
        "id": "J0JJjYc4v5a9",
        "colab_type": "code",
        "outputId": "37db879b-cf54-40d0-f681-ec0aaf331afd",
        "colab": {
          "base_uri": "https://localhost:8080/",
          "height": 238
        }
      },
      "source": [
        "# Apresenta as colunas do DF\n",
        "df.info()"
      ],
      "execution_count": 0,
      "outputs": [
        {
          "output_type": "stream",
          "text": [
            "<class 'pandas.core.frame.DataFrame'>\n",
            "RangeIndex: 99975 entries, 0 to 99974\n",
            "Data columns (total 8 columns):\n",
            "Unnamed: 0     99975 non-null int64\n",
            "Date / Time    99975 non-null object\n",
            "City           99781 non-null object\n",
            "State          92790 non-null object\n",
            "Shape          97970 non-null object\n",
            "Duration       96989 non-null object\n",
            "Summary        99954 non-null object\n",
            "Posted         99973 non-null object\n",
            "dtypes: int64(1), object(7)\n",
            "memory usage: 6.1+ MB\n"
          ],
          "name": "stdout"
        }
      ]
    },
    {
      "cell_type": "markdown",
      "metadata": {
        "id": "ium8Lon-qsA4",
        "colab_type": "text"
      },
      "source": [
        "2. Remover registros que tenham valores vazios (None, Unknown, ...) para City, State e Shape"
      ]
    },
    {
      "cell_type": "code",
      "metadata": {
        "id": "1mwn_y809BiY",
        "colab_type": "code",
        "outputId": "efcabec6-e7e4-43d5-e93e-7712ed0799b9",
        "colab": {
          "base_uri": "https://localhost:8080/",
          "height": 204
        }
      },
      "source": [
        "# Remove valores rotulados como desconhecidos em 'Shape'\n",
        "df = df[df['Shape'] != 'Unknown']\n",
        "\n",
        "# Apresenta o DF\n",
        "df.head()"
      ],
      "execution_count": 0,
      "outputs": [
        {
          "output_type": "execute_result",
          "data": {
            "text/html": [
              "<div>\n",
              "<style scoped>\n",
              "    .dataframe tbody tr th:only-of-type {\n",
              "        vertical-align: middle;\n",
              "    }\n",
              "\n",
              "    .dataframe tbody tr th {\n",
              "        vertical-align: top;\n",
              "    }\n",
              "\n",
              "    .dataframe thead th {\n",
              "        text-align: right;\n",
              "    }\n",
              "</style>\n",
              "<table border=\"1\" class=\"dataframe\">\n",
              "  <thead>\n",
              "    <tr style=\"text-align: right;\">\n",
              "      <th></th>\n",
              "      <th>Unnamed: 0</th>\n",
              "      <th>Date / Time</th>\n",
              "      <th>City</th>\n",
              "      <th>State</th>\n",
              "      <th>Shape</th>\n",
              "      <th>Duration</th>\n",
              "      <th>Summary</th>\n",
              "      <th>Posted</th>\n",
              "    </tr>\n",
              "  </thead>\n",
              "  <tbody>\n",
              "    <tr>\n",
              "      <th>0</th>\n",
              "      <td>0</td>\n",
              "      <td>9/30/17 23:00</td>\n",
              "      <td>Shokapee</td>\n",
              "      <td>MN</td>\n",
              "      <td>Formation</td>\n",
              "      <td>10 minutes</td>\n",
              "      <td>We noticed a really big circle made up of 12 s...</td>\n",
              "      <td>10/5/17</td>\n",
              "    </tr>\n",
              "    <tr>\n",
              "      <th>2</th>\n",
              "      <td>2</td>\n",
              "      <td>9/30/17 21:00</td>\n",
              "      <td>Knoxville</td>\n",
              "      <td>TN</td>\n",
              "      <td>Flash</td>\n",
              "      <td>15-20 minutes</td>\n",
              "      <td>White Flashing Light in the Sky Not An Airplan...</td>\n",
              "      <td>10/5/17</td>\n",
              "    </tr>\n",
              "    <tr>\n",
              "      <th>3</th>\n",
              "      <td>3</td>\n",
              "      <td>9/30/17 20:30</td>\n",
              "      <td>Harpursville</td>\n",
              "      <td>NY</td>\n",
              "      <td>Circle</td>\n",
              "      <td>15</td>\n",
              "      <td>Several circles in a cluster then separated in...</td>\n",
              "      <td>10/5/17</td>\n",
              "    </tr>\n",
              "    <tr>\n",
              "      <th>4</th>\n",
              "      <td>4</td>\n",
              "      <td>9/30/17 19:57</td>\n",
              "      <td>Twin Falls</td>\n",
              "      <td>ID</td>\n",
              "      <td>Sphere</td>\n",
              "      <td>1:54</td>\n",
              "      <td>Unidentified Orb first witnessed slowly hoveri...</td>\n",
              "      <td>10/19/17</td>\n",
              "    </tr>\n",
              "    <tr>\n",
              "      <th>5</th>\n",
              "      <td>5</td>\n",
              "      <td>9/30/17 19:51</td>\n",
              "      <td>Hockessin</td>\n",
              "      <td>DE</td>\n",
              "      <td>Light</td>\n",
              "      <td>2 seconds</td>\n",
              "      <td>Large light blue beam of light flying over ver...</td>\n",
              "      <td>10/5/17</td>\n",
              "    </tr>\n",
              "  </tbody>\n",
              "</table>\n",
              "</div>"
            ],
            "text/plain": [
              "   Unnamed: 0  ...    Posted\n",
              "0           0  ...   10/5/17\n",
              "2           2  ...   10/5/17\n",
              "3           3  ...   10/5/17\n",
              "4           4  ...  10/19/17\n",
              "5           5  ...   10/5/17\n",
              "\n",
              "[5 rows x 8 columns]"
            ]
          },
          "metadata": {
            "tags": []
          },
          "execution_count": 5
        }
      ]
    },
    {
      "cell_type": "code",
      "metadata": {
        "id": "KbMqD_5sKSKg",
        "colab_type": "code",
        "outputId": "fb714dd2-0963-45dc-f814-5be052c45453",
        "colab": {
          "base_uri": "https://localhost:8080/",
          "height": 170
        }
      },
      "source": [
        "# Checa a existência de valores 'Unknown' na coluna 'Shape'\n",
        "df[df['Shape'] == 'Unknown'].count()"
      ],
      "execution_count": 0,
      "outputs": [
        {
          "output_type": "execute_result",
          "data": {
            "text/plain": [
              "Unnamed: 0     0\n",
              "Date / Time    0\n",
              "City           0\n",
              "State          0\n",
              "Shape          0\n",
              "Duration       0\n",
              "Summary        0\n",
              "Posted         0\n",
              "dtype: int64"
            ]
          },
          "metadata": {
            "tags": []
          },
          "execution_count": 6
        }
      ]
    },
    {
      "cell_type": "code",
      "metadata": {
        "id": "1mrAiTxHAjw7",
        "colab_type": "code",
        "outputId": "b860a496-9610-4d7d-db41-f1aba7c668b7",
        "colab": {
          "base_uri": "https://localhost:8080/",
          "height": 170
        }
      },
      "source": [
        "# Quantidade de valores nulos em cada coluna\n",
        "print(df.isna().sum())"
      ],
      "execution_count": 0,
      "outputs": [
        {
          "output_type": "stream",
          "text": [
            "Unnamed: 0        0\n",
            "Date / Time       0\n",
            "City            183\n",
            "State          6747\n",
            "Shape          2005\n",
            "Duration       2749\n",
            "Summary          21\n",
            "Posted            2\n",
            "dtype: int64\n"
          ],
          "name": "stdout"
        }
      ]
    },
    {
      "cell_type": "code",
      "metadata": {
        "id": "JsLgKY-TAqYu",
        "colab_type": "code",
        "colab": {}
      },
      "source": [
        "# Remove valores nulos das 3 colunas\n",
        "df = df[df['City'].notna()]\n",
        "df = df[df['State'].notna()]\n",
        "df = df[df['Shape'].notna()]"
      ],
      "execution_count": 0,
      "outputs": []
    },
    {
      "cell_type": "code",
      "metadata": {
        "id": "TZ-69mD5A-Mg",
        "colab_type": "code",
        "outputId": "78113f7b-b193-4be1-f6e2-71bc6cdfd966",
        "colab": {
          "base_uri": "https://localhost:8080/",
          "height": 170
        }
      },
      "source": [
        "# Quantidade de valores nulos em cada coluna\n",
        "print(df.isna().sum())"
      ],
      "execution_count": 0,
      "outputs": [
        {
          "output_type": "stream",
          "text": [
            "Unnamed: 0        0\n",
            "Date / Time       0\n",
            "City              0\n",
            "State             0\n",
            "Shape             0\n",
            "Duration       2008\n",
            "Summary           9\n",
            "Posted            2\n",
            "dtype: int64\n"
          ],
          "name": "stdout"
        }
      ]
    },
    {
      "cell_type": "markdown",
      "metadata": {
        "colab_type": "text",
        "id": "QWuC6UPOlZ8W"
      },
      "source": [
        "3. Manter somente os registros referentes aos 51 estados dos Estados Unidos."
      ]
    },
    {
      "cell_type": "code",
      "metadata": {
        "id": "6IZ_ONB3BJgx",
        "colab_type": "code",
        "outputId": "9250ba0a-6651-42de-94cb-d5bd2ee76f57",
        "colab": {
          "base_uri": "https://localhost:8080/",
          "height": 340
        }
      },
      "source": [
        "# Lê arquivo CSV\n",
        "usa_states_df = pd.read_excel('states.xlsx')\n",
        "\n",
        "# Apresenta arquivo CSV\n",
        "print(usa_states_df.info())\n",
        "usa_states_df.head()"
      ],
      "execution_count": 0,
      "outputs": [
        {
          "output_type": "stream",
          "text": [
            "<class 'pandas.core.frame.DataFrame'>\n",
            "RangeIndex: 51 entries, 0 to 50\n",
            "Data columns (total 2 columns):\n",
            "State           51 non-null object\n",
            "Abbreviation    51 non-null object\n",
            "dtypes: object(2)\n",
            "memory usage: 896.0+ bytes\n",
            "None\n"
          ],
          "name": "stdout"
        },
        {
          "output_type": "execute_result",
          "data": {
            "text/html": [
              "<div>\n",
              "<style scoped>\n",
              "    .dataframe tbody tr th:only-of-type {\n",
              "        vertical-align: middle;\n",
              "    }\n",
              "\n",
              "    .dataframe tbody tr th {\n",
              "        vertical-align: top;\n",
              "    }\n",
              "\n",
              "    .dataframe thead th {\n",
              "        text-align: right;\n",
              "    }\n",
              "</style>\n",
              "<table border=\"1\" class=\"dataframe\">\n",
              "  <thead>\n",
              "    <tr style=\"text-align: right;\">\n",
              "      <th></th>\n",
              "      <th>State</th>\n",
              "      <th>Abbreviation</th>\n",
              "    </tr>\n",
              "  </thead>\n",
              "  <tbody>\n",
              "    <tr>\n",
              "      <th>0</th>\n",
              "      <td>Alabama</td>\n",
              "      <td>AL</td>\n",
              "    </tr>\n",
              "    <tr>\n",
              "      <th>1</th>\n",
              "      <td>Alaska</td>\n",
              "      <td>AK</td>\n",
              "    </tr>\n",
              "    <tr>\n",
              "      <th>2</th>\n",
              "      <td>Arizona</td>\n",
              "      <td>AZ</td>\n",
              "    </tr>\n",
              "    <tr>\n",
              "      <th>3</th>\n",
              "      <td>Arkansas</td>\n",
              "      <td>AR</td>\n",
              "    </tr>\n",
              "    <tr>\n",
              "      <th>4</th>\n",
              "      <td>California</td>\n",
              "      <td>CA</td>\n",
              "    </tr>\n",
              "  </tbody>\n",
              "</table>\n",
              "</div>"
            ],
            "text/plain": [
              "        State Abbreviation\n",
              "0     Alabama           AL\n",
              "1      Alaska           AK\n",
              "2     Arizona           AZ\n",
              "3    Arkansas           AR\n",
              "4  California           CA"
            ]
          },
          "metadata": {
            "tags": []
          },
          "execution_count": 10
        }
      ]
    },
    {
      "cell_type": "code",
      "metadata": {
        "id": "u-UWav_JCD6s",
        "colab_type": "code",
        "outputId": "22769cec-0ed3-427f-f075-b6deefbd8378",
        "colab": {
          "base_uri": "https://localhost:8080/",
          "height": 85
        }
      },
      "source": [
        "# Seleciona abreviações de estados (USA)\n",
        "usa_states = usa_states_df['Abbreviation'].values\n",
        "print(usa_states)"
      ],
      "execution_count": 0,
      "outputs": [
        {
          "output_type": "stream",
          "text": [
            "['AL' 'AK' 'AZ' 'AR' 'CA' 'CO' 'CT' 'DE' 'DC' 'FL' 'GA' 'HI' 'ID' 'IL'\n",
            " 'IN' 'IA' 'KS' 'KY' 'LA' 'ME' 'MT' 'NE' 'NV' 'NH' 'NJ' 'NM' 'NY' 'NC'\n",
            " 'ND' 'OH' 'OK' 'OR' 'MD' 'MA' 'MI' 'MN' 'MS' 'MO' 'PA' 'RI' 'SC' 'SD'\n",
            " 'TN' 'TX' 'UT' 'VT' 'VA' 'WA' 'WV' 'WI' 'WY']\n"
          ],
          "name": "stdout"
        }
      ]
    },
    {
      "cell_type": "code",
      "metadata": {
        "id": "vhQpK7s7CRia",
        "colab_type": "code",
        "outputId": "98129f43-666d-49bb-8137-53aa7f8c8893",
        "colab": {
          "base_uri": "https://localhost:8080/",
          "height": 442
        }
      },
      "source": [
        "# cria DF apenas com valores da columa 'State' que existem em usa_states\n",
        "df_only_usa = df[df['State'].isin(usa_states)]\n",
        "\n",
        "# Apresenta DF\n",
        "print(df_only_usa.info())\n",
        "df_only_usa.head()"
      ],
      "execution_count": 0,
      "outputs": [
        {
          "output_type": "stream",
          "text": [
            "<class 'pandas.core.frame.DataFrame'>\n",
            "Int64Index: 80413 entries, 0 to 99974\n",
            "Data columns (total 8 columns):\n",
            "Unnamed: 0     80413 non-null int64\n",
            "Date / Time    80413 non-null object\n",
            "City           80413 non-null object\n",
            "State          80413 non-null object\n",
            "Shape          80413 non-null object\n",
            "Duration       78515 non-null object\n",
            "Summary        80404 non-null object\n",
            "Posted         80411 non-null object\n",
            "dtypes: int64(1), object(7)\n",
            "memory usage: 5.5+ MB\n",
            "None\n"
          ],
          "name": "stdout"
        },
        {
          "output_type": "execute_result",
          "data": {
            "text/html": [
              "<div>\n",
              "<style scoped>\n",
              "    .dataframe tbody tr th:only-of-type {\n",
              "        vertical-align: middle;\n",
              "    }\n",
              "\n",
              "    .dataframe tbody tr th {\n",
              "        vertical-align: top;\n",
              "    }\n",
              "\n",
              "    .dataframe thead th {\n",
              "        text-align: right;\n",
              "    }\n",
              "</style>\n",
              "<table border=\"1\" class=\"dataframe\">\n",
              "  <thead>\n",
              "    <tr style=\"text-align: right;\">\n",
              "      <th></th>\n",
              "      <th>Unnamed: 0</th>\n",
              "      <th>Date / Time</th>\n",
              "      <th>City</th>\n",
              "      <th>State</th>\n",
              "      <th>Shape</th>\n",
              "      <th>Duration</th>\n",
              "      <th>Summary</th>\n",
              "      <th>Posted</th>\n",
              "    </tr>\n",
              "  </thead>\n",
              "  <tbody>\n",
              "    <tr>\n",
              "      <th>0</th>\n",
              "      <td>0</td>\n",
              "      <td>9/30/17 23:00</td>\n",
              "      <td>Shokapee</td>\n",
              "      <td>MN</td>\n",
              "      <td>Formation</td>\n",
              "      <td>10 minutes</td>\n",
              "      <td>We noticed a really big circle made up of 12 s...</td>\n",
              "      <td>10/5/17</td>\n",
              "    </tr>\n",
              "    <tr>\n",
              "      <th>2</th>\n",
              "      <td>2</td>\n",
              "      <td>9/30/17 21:00</td>\n",
              "      <td>Knoxville</td>\n",
              "      <td>TN</td>\n",
              "      <td>Flash</td>\n",
              "      <td>15-20 minutes</td>\n",
              "      <td>White Flashing Light in the Sky Not An Airplan...</td>\n",
              "      <td>10/5/17</td>\n",
              "    </tr>\n",
              "    <tr>\n",
              "      <th>3</th>\n",
              "      <td>3</td>\n",
              "      <td>9/30/17 20:30</td>\n",
              "      <td>Harpursville</td>\n",
              "      <td>NY</td>\n",
              "      <td>Circle</td>\n",
              "      <td>15</td>\n",
              "      <td>Several circles in a cluster then separated in...</td>\n",
              "      <td>10/5/17</td>\n",
              "    </tr>\n",
              "    <tr>\n",
              "      <th>4</th>\n",
              "      <td>4</td>\n",
              "      <td>9/30/17 19:57</td>\n",
              "      <td>Twin Falls</td>\n",
              "      <td>ID</td>\n",
              "      <td>Sphere</td>\n",
              "      <td>1:54</td>\n",
              "      <td>Unidentified Orb first witnessed slowly hoveri...</td>\n",
              "      <td>10/19/17</td>\n",
              "    </tr>\n",
              "    <tr>\n",
              "      <th>5</th>\n",
              "      <td>5</td>\n",
              "      <td>9/30/17 19:51</td>\n",
              "      <td>Hockessin</td>\n",
              "      <td>DE</td>\n",
              "      <td>Light</td>\n",
              "      <td>2 seconds</td>\n",
              "      <td>Large light blue beam of light flying over ver...</td>\n",
              "      <td>10/5/17</td>\n",
              "    </tr>\n",
              "  </tbody>\n",
              "</table>\n",
              "</div>"
            ],
            "text/plain": [
              "   Unnamed: 0  ...    Posted\n",
              "0           0  ...   10/5/17\n",
              "2           2  ...   10/5/17\n",
              "3           3  ...   10/5/17\n",
              "4           4  ...  10/19/17\n",
              "5           5  ...   10/5/17\n",
              "\n",
              "[5 rows x 8 columns]"
            ]
          },
          "metadata": {
            "tags": []
          },
          "execution_count": 12
        }
      ]
    },
    {
      "cell_type": "markdown",
      "metadata": {
        "id": "tmCsOHbgCknp",
        "colab_type": "text"
      },
      "source": [
        "4. Remover variáveis irrelevantes para a análise (Duration, Summary e Posted)"
      ]
    },
    {
      "cell_type": "code",
      "metadata": {
        "id": "3o1_4_ReCorK",
        "colab_type": "code",
        "outputId": "f7abe2ae-865b-4fff-9dee-18c3744cc239",
        "colab": {
          "base_uri": "https://localhost:8080/",
          "height": 170
        }
      },
      "source": [
        "# Define colunas a serem deletadas\n",
        "columns_to_drop = ['Duration', 'Summary', 'Posted', 'Unnamed: 0']\n",
        "\n",
        "# Deleta colunas\n",
        "df.drop(columns=columns_to_drop, inplace=True)\n",
        "\n",
        "# Apresenta informações de colunas do DF\n",
        "df.info()"
      ],
      "execution_count": 0,
      "outputs": [
        {
          "output_type": "stream",
          "text": [
            "<class 'pandas.core.frame.DataFrame'>\n",
            "Int64Index: 84301 entries, 0 to 99974\n",
            "Data columns (total 4 columns):\n",
            "Date / Time    84301 non-null object\n",
            "City           84301 non-null object\n",
            "State          84301 non-null object\n",
            "Shape          84301 non-null object\n",
            "dtypes: object(4)\n",
            "memory usage: 3.2+ MB\n"
          ],
          "name": "stdout"
        }
      ]
    },
    {
      "cell_type": "markdown",
      "metadata": {
        "id": "pHSgy6NsC9Uw",
        "colab_type": "text"
      },
      "source": [
        "5. Manter somente os registros de Shapes mais populares (com mais de 1000 ocorrências);"
      ]
    },
    {
      "cell_type": "code",
      "metadata": {
        "id": "jFGzNj-xDGi8",
        "colab_type": "code",
        "outputId": "d0a8fd18-f2de-4e09-a644-dc2b77190589",
        "colab": {
          "base_uri": "https://localhost:8080/",
          "height": 306
        }
      },
      "source": [
        "# Conta frequência de cada valor da coluna 'Shape'\n",
        "shape_freq_df = df['Shape'].value_counts()\n",
        "\n",
        "# Reseta o índice do DF\n",
        "shape_freq_df = shape_freq_df.reset_index()\n",
        "\n",
        "# Guarda valores de índices que entram na condição 'x > 1000'\n",
        "most_popular_shapes = shape_freq_df[shape_freq_df['Shape'] > 1000]['index']\n",
        "\n",
        "# Apresenta a série guardada\n",
        "print(most_popular_shapes)"
      ],
      "execution_count": 0,
      "outputs": [
        {
          "output_type": "stream",
          "text": [
            "0         Light\n",
            "1        Circle\n",
            "2      Triangle\n",
            "3      Fireball\n",
            "4         Other\n",
            "5        Sphere\n",
            "6          Disk\n",
            "7          Oval\n",
            "8     Formation\n",
            "9      Changing\n",
            "10        Cigar\n",
            "11        Flash\n",
            "12    Rectangle\n",
            "13     Cylinder\n",
            "14      Diamond\n",
            "15      Chevron\n",
            "Name: index, dtype: object\n"
          ],
          "name": "stdout"
        }
      ]
    },
    {
      "cell_type": "code",
      "metadata": {
        "id": "WwLTjbUCEN6t",
        "colab_type": "code",
        "outputId": "4768812d-418e-47e6-a053-c73dbd206baf",
        "colab": {
          "base_uri": "https://localhost:8080/",
          "height": 51
        }
      },
      "source": [
        "# Cria DF apenas com valores de 'Shape' que existem na série 'most_popular_shapes'\n",
        "most_popular_shapes_df = df[df['Shape'].isin(most_popular_shapes)]\n",
        "\n",
        "# Compara os valores da série 'most_popular_shapes' com os valores que estão na coluna 'Shape' do DF\n",
        "most_popular_shapes_df['Shape'].value_counts().index == most_popular_shapes"
      ],
      "execution_count": 0,
      "outputs": [
        {
          "output_type": "execute_result",
          "data": {
            "text/plain": [
              "array([ True,  True,  True,  True,  True,  True,  True,  True,  True,\n",
              "        True,  True,  True,  True,  True,  True,  True])"
            ]
          },
          "metadata": {
            "tags": []
          },
          "execution_count": 15
        }
      ]
    },
    {
      "cell_type": "markdown",
      "metadata": {
        "id": "naetGkF1FjI1",
        "colab_type": "text"
      },
      "source": [
        "6. Salvar o dataframe final em um arquivo CSV com o nome \"df_OVNI_limpo\"."
      ]
    },
    {
      "cell_type": "code",
      "metadata": {
        "id": "K-qKnRIgFqBd",
        "colab_type": "code",
        "colab": {}
      },
      "source": [
        "# Salva o DF limpo em formato CSV\n",
        "most_popular_shapes_df.to_csv('df_OVNI_limpo.csv')"
      ],
      "execution_count": 0,
      "outputs": []
    },
    {
      "cell_type": "markdown",
      "metadata": {
        "id": "6U9aY4IGHnNT",
        "colab_type": "text"
      },
      "source": [
        "**~FIM**"
      ]
    }
  ]
}